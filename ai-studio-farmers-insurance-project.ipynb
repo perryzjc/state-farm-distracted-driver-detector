{
 "cells": [
  {
   "cell_type": "markdown",
   "id": "10e46224",
   "metadata": {
    "execution": {
     "iopub.execute_input": "2023-10-07T19:04:16.578738Z",
     "iopub.status.busy": "2023-10-07T19:04:16.578371Z",
     "iopub.status.idle": "2023-10-07T19:04:16.584062Z",
     "shell.execute_reply": "2023-10-07T19:04:16.583218Z",
     "shell.execute_reply.started": "2023-10-07T19:04:16.578710Z"
    },
    "papermill": {
     "duration": 0.0109,
     "end_time": "2023-10-20T18:36:15.875615",
     "exception": false,
     "start_time": "2023-10-20T18:36:15.864715",
     "status": "completed"
    },
    "tags": []
   },
   "source": [
    "# State Farm Distracted Driver Detection"
   ]
  },
  {
   "cell_type": "markdown",
   "id": "ac856065",
   "metadata": {
    "papermill": {
     "duration": 0.010058,
     "end_time": "2023-10-20T18:36:15.896066",
     "exception": false,
     "start_time": "2023-10-20T18:36:15.886008",
     "status": "completed"
    },
    "tags": []
   },
   "source": [
    "## Libraries"
   ]
  },
  {
   "cell_type": "code",
   "execution_count": 1,
   "id": "fa050910",
   "metadata": {
    "execution": {
     "iopub.execute_input": "2023-10-20T18:36:15.918725Z",
     "iopub.status.busy": "2023-10-20T18:36:15.918279Z",
     "iopub.status.idle": "2023-10-20T18:36:44.232141Z",
     "shell.execute_reply": "2023-10-20T18:36:44.230854Z"
    },
    "papermill": {
     "duration": 28.328862,
     "end_time": "2023-10-20T18:36:44.235179",
     "exception": false,
     "start_time": "2023-10-20T18:36:15.906317",
     "status": "completed"
    },
    "tags": []
   },
   "outputs": [
    {
     "name": "stdout",
     "output_type": "stream",
     "text": [
      "Requirement already satisfied: Pillow in /opt/conda/lib/python3.10/site-packages (9.5.0)\r\n",
      "Requirement already satisfied: tqdm in /opt/conda/lib/python3.10/site-packages (4.66.1)\r\n"
     ]
    }
   ],
   "source": [
    "# support image quality check\n",
    "!pip install Pillow\n",
    "# visual process bar\n",
    "!pip install tqdm"
   ]
  },
  {
   "cell_type": "code",
   "execution_count": 2,
   "id": "f0d1b774",
   "metadata": {
    "execution": {
     "iopub.execute_input": "2023-10-20T18:36:44.260093Z",
     "iopub.status.busy": "2023-10-20T18:36:44.258843Z",
     "iopub.status.idle": "2023-10-20T18:36:45.929671Z",
     "shell.execute_reply": "2023-10-20T18:36:45.928766Z"
    },
    "papermill": {
     "duration": 1.685615,
     "end_time": "2023-10-20T18:36:45.932187",
     "exception": false,
     "start_time": "2023-10-20T18:36:44.246572",
     "status": "completed"
    },
    "tags": []
   },
   "outputs": [],
   "source": [
    "from collections import defaultdict\n",
    "import os\n",
    "\n",
    "import matplotlib.pyplot as plt\n",
    "import pandas as pd\n",
    "from PIL import Image\n",
    "from sklearn.model_selection import train_test_split\n",
    "from tqdm import tqdm\n"
   ]
  },
  {
   "cell_type": "markdown",
   "id": "ad824b48",
   "metadata": {
    "papermill": {
     "duration": 0.010374,
     "end_time": "2023-10-20T18:36:45.953390",
     "exception": false,
     "start_time": "2023-10-20T18:36:45.943016",
     "status": "completed"
    },
    "tags": []
   },
   "source": [
    "## 0. Load Data"
   ]
  },
  {
   "cell_type": "code",
   "execution_count": 3,
   "id": "2e2ee0a8",
   "metadata": {
    "execution": {
     "iopub.execute_input": "2023-10-20T18:36:45.976997Z",
     "iopub.status.busy": "2023-10-20T18:36:45.976031Z",
     "iopub.status.idle": "2023-10-20T18:36:46.041860Z",
     "shell.execute_reply": "2023-10-20T18:36:46.041001Z"
    },
    "papermill": {
     "duration": 0.079862,
     "end_time": "2023-10-20T18:36:46.043979",
     "exception": false,
     "start_time": "2023-10-20T18:36:45.964117",
     "status": "completed"
    },
    "tags": []
   },
   "outputs": [
    {
     "data": {
      "text/html": [
       "<div>\n",
       "<style scoped>\n",
       "    .dataframe tbody tr th:only-of-type {\n",
       "        vertical-align: middle;\n",
       "    }\n",
       "\n",
       "    .dataframe tbody tr th {\n",
       "        vertical-align: top;\n",
       "    }\n",
       "\n",
       "    .dataframe thead th {\n",
       "        text-align: right;\n",
       "    }\n",
       "</style>\n",
       "<table border=\"1\" class=\"dataframe\">\n",
       "  <thead>\n",
       "    <tr style=\"text-align: right;\">\n",
       "      <th></th>\n",
       "      <th>subject</th>\n",
       "      <th>classname</th>\n",
       "      <th>img</th>\n",
       "    </tr>\n",
       "  </thead>\n",
       "  <tbody>\n",
       "    <tr>\n",
       "      <th>0</th>\n",
       "      <td>p002</td>\n",
       "      <td>c0</td>\n",
       "      <td>img_44733.jpg</td>\n",
       "    </tr>\n",
       "    <tr>\n",
       "      <th>1</th>\n",
       "      <td>p002</td>\n",
       "      <td>c0</td>\n",
       "      <td>img_72999.jpg</td>\n",
       "    </tr>\n",
       "    <tr>\n",
       "      <th>2</th>\n",
       "      <td>p002</td>\n",
       "      <td>c0</td>\n",
       "      <td>img_25094.jpg</td>\n",
       "    </tr>\n",
       "    <tr>\n",
       "      <th>3</th>\n",
       "      <td>p002</td>\n",
       "      <td>c0</td>\n",
       "      <td>img_69092.jpg</td>\n",
       "    </tr>\n",
       "    <tr>\n",
       "      <th>4</th>\n",
       "      <td>p002</td>\n",
       "      <td>c0</td>\n",
       "      <td>img_92629.jpg</td>\n",
       "    </tr>\n",
       "  </tbody>\n",
       "</table>\n",
       "</div>"
      ],
      "text/plain": [
       "  subject classname            img\n",
       "0    p002        c0  img_44733.jpg\n",
       "1    p002        c0  img_72999.jpg\n",
       "2    p002        c0  img_25094.jpg\n",
       "3    p002        c0  img_69092.jpg\n",
       "4    p002        c0  img_92629.jpg"
      ]
     },
     "execution_count": 3,
     "metadata": {},
     "output_type": "execute_result"
    }
   ],
   "source": [
    "df = pd.read_csv('/kaggle/input/state-farm-distracted-driver-detection/driver_imgs_list.csv')\n",
    "df.head(5)"
   ]
  },
  {
   "cell_type": "markdown",
   "id": "4ba76d10",
   "metadata": {
    "papermill": {
     "duration": 0.010596,
     "end_time": "2023-10-20T18:36:46.065757",
     "exception": false,
     "start_time": "2023-10-20T18:36:46.055161",
     "status": "completed"
    },
    "tags": []
   },
   "source": [
    "## 1. Data Clean / Understanding"
   ]
  },
  {
   "cell_type": "code",
   "execution_count": null,
   "id": "dcbb4a40",
   "metadata": {
    "papermill": {
     "duration": 0.010815,
     "end_time": "2023-10-20T18:36:46.087607",
     "exception": false,
     "start_time": "2023-10-20T18:36:46.076792",
     "status": "completed"
    },
    "tags": []
   },
   "outputs": [],
   "source": []
  },
  {
   "cell_type": "markdown",
   "id": "58833cde",
   "metadata": {
    "papermill": {
     "duration": 0.010649,
     "end_time": "2023-10-20T18:36:46.109224",
     "exception": false,
     "start_time": "2023-10-20T18:36:46.098575",
     "status": "completed"
    },
    "tags": []
   },
   "source": [
    "### 1.0 Clean Missing Values"
   ]
  },
  {
   "cell_type": "code",
   "execution_count": 4,
   "id": "46841de8",
   "metadata": {
    "execution": {
     "iopub.execute_input": "2023-10-20T18:36:46.133583Z",
     "iopub.status.busy": "2023-10-20T18:36:46.132562Z",
     "iopub.status.idle": "2023-10-20T18:36:46.137195Z",
     "shell.execute_reply": "2023-10-20T18:36:46.136206Z"
    },
    "papermill": {
     "duration": 0.019338,
     "end_time": "2023-10-20T18:36:46.139534",
     "exception": false,
     "start_time": "2023-10-20T18:36:46.120196",
     "status": "completed"
    },
    "tags": []
   },
   "outputs": [],
   "source": [
    "# Add your implementation"
   ]
  },
  {
   "cell_type": "markdown",
   "id": "3fc1cf1a",
   "metadata": {
    "papermill": {
     "duration": 0.011004,
     "end_time": "2023-10-20T18:36:46.161914",
     "exception": false,
     "start_time": "2023-10-20T18:36:46.150910",
     "status": "completed"
    },
    "tags": []
   },
   "source": [
    "### 1.1 Distribution\n",
    "Goal: Understand the distribution of columns in the data set.\n",
    "1. Are all of the  columns normally distributed?\n",
    "\n",
    "Impacts:\n",
    "1. If the data is not normally distributed, the training process may be biased towards the majority class.\n",
    "\n",
    "Precondition:\n",
    "1. Data is loaded.\n",
    "2. Missing values are handled.\n",
    "   a. reason: missing values are not counted in the distribution.\n",
    "\n",
    "Action: Find the distribution of every column in the data set, totally 3 columns.\n",
    "1. subject\n",
    "2. classname\n",
    "3. img"
   ]
  },
  {
   "cell_type": "markdown",
   "id": "6e96f776",
   "metadata": {
    "papermill": {
     "duration": 0.011351,
     "end_time": "2023-10-20T18:36:46.184356",
     "exception": false,
     "start_time": "2023-10-20T18:36:46.173005",
     "status": "completed"
    },
    "tags": []
   },
   "source": [
    "#### 1.1.1 subject distribution"
   ]
  },
  {
   "cell_type": "code",
   "execution_count": 5,
   "id": "bbff164b",
   "metadata": {
    "_cell_guid": "b1076dfc-b9ad-4769-8c92-a6c4dae69d19",
    "_uuid": "8f2839f25d086af736a60e9eeb907d3b93b6e0e5",
    "execution": {
     "iopub.execute_input": "2023-10-20T18:36:46.208457Z",
     "iopub.status.busy": "2023-10-20T18:36:46.208034Z",
     "iopub.status.idle": "2023-10-20T18:36:46.825442Z",
     "shell.execute_reply": "2023-10-20T18:36:46.824190Z"
    },
    "papermill": {
     "duration": 0.632488,
     "end_time": "2023-10-20T18:36:46.828118",
     "exception": false,
     "start_time": "2023-10-20T18:36:46.195630",
     "status": "completed"
    },
    "tags": []
   },
   "outputs": [
    {
     "data": {
      "image/png": "[encoded data removed]",
      "text/plain": [
       "<Figure size 1200x800 with 1 Axes>"
      ]
     },
     "metadata": {},
     "output_type": "display_data"
    }
   ],
   "source": [
    "# Count the number of occurrences of each class\n",
    "class_counts = df['subject'].value_counts()\n",
    "\n",
    "# Plot the distribution\n",
    "plt.figure(figsize=(12, 8))\n",
    "class_counts.plot(kind='bar', color='skyblue')\n",
    "plt.title('Subject Distribution')\n",
    "plt.xlabel('Subject')\n",
    "plt.ylabel('Number of Samples')\n",
    "plt.xticks(rotation=45)\n",
    "plt.grid(axis='y')\n",
    "plt.show()"
   ]
  },
  {
   "cell_type": "markdown",
   "id": "67047a9e",
   "metadata": {
    "papermill": {
     "duration": 0.01135,
     "end_time": "2023-10-20T18:36:46.851534",
     "exception": false,
     "start_time": "2023-10-20T18:36:46.840184",
     "status": "completed"
    },
    "tags": []
   },
   "source": [
    "#### 1.1.2 classname distribution"
   ]
  },
  {
   "cell_type": "code",
   "execution_count": 6,
   "id": "45d0f967",
   "metadata": {
    "execution": {
     "iopub.execute_input": "2023-10-20T18:36:46.878536Z",
     "iopub.status.busy": "2023-10-20T18:36:46.877689Z",
     "iopub.status.idle": "2023-10-20T18:36:47.219266Z",
     "shell.execute_reply": "2023-10-20T18:36:47.218135Z"
    },
    "papermill": {
     "duration": 0.358596,
     "end_time": "2023-10-20T18:36:47.221824",
     "exception": false,
     "start_time": "2023-10-20T18:36:46.863228",
     "status": "completed"
    },
    "tags": []
   },
   "outputs": [
    {
     "data": {
      "image/png": "[encoded data removed]",
      "text/plain": [
       "<Figure size 1200x800 with 1 Axes>"
      ]
     },
     "metadata": {},
     "output_type": "display_data"
    }
   ],
   "source": [
    "# Count the number of occurrences of each class\n",
    "class_counts = df['classname'].value_counts()\n",
    "\n",
    "# Plot the distribution\n",
    "plt.figure(figsize=(12, 8))\n",
    "class_counts.plot(kind='bar', color='skyblue')\n",
    "plt.title('Classname Distribution')\n",
    "plt.xlabel('Classname')\n",
    "plt.ylabel('Number of Samples')\n",
    "plt.xticks(rotation=45)\n",
    "plt.grid(axis='y')\n",
    "plt.show()"
   ]
  },
  {
   "cell_type": "markdown",
   "id": "1d7a545b",
   "metadata": {
    "papermill": {
     "duration": 0.011872,
     "end_time": "2023-10-20T18:36:47.245988",
     "exception": false,
     "start_time": "2023-10-20T18:36:47.234116",
     "status": "completed"
    },
    "tags": []
   },
   "source": [
    "#### 1.1.3 img distribution\n",
    "To visualize it may take quite a long time since img is likely to be unique.\n",
    "So, instead of render every single bar, we can instead see if every of them are unique."
   ]
  },
  {
   "cell_type": "code",
   "execution_count": 7,
   "id": "3bc382b0",
   "metadata": {
    "execution": {
     "iopub.execute_input": "2023-10-20T18:36:47.271866Z",
     "iopub.status.busy": "2023-10-20T18:36:47.271455Z",
     "iopub.status.idle": "2023-10-20T18:36:47.289009Z",
     "shell.execute_reply": "2023-10-20T18:36:47.287693Z"
    },
    "papermill": {
     "duration": 0.033464,
     "end_time": "2023-10-20T18:36:47.291547",
     "exception": false,
     "start_time": "2023-10-20T18:36:47.258083",
     "status": "completed"
    },
    "tags": []
   },
   "outputs": [
    {
     "name": "stdout",
     "output_type": "stream",
     "text": [
      "Total number of image entries: 22424\n",
      "Number of unique image entries: 22424\n",
      "Every image entry is unique.\n"
     ]
    }
   ],
   "source": [
    "# Check the total number of 'img' entries\n",
    "total_entries = len(df['img'])\n",
    "\n",
    "# Check the number of unique 'img' entries\n",
    "unique_entries = df['img'].nunique()\n",
    "\n",
    "# Print the results\n",
    "print(f\"Total number of image entries: {total_entries}\")\n",
    "print(f\"Number of unique image entries: {unique_entries}\")\n",
    "\n",
    "# Check if every image entry is unique\n",
    "if total_entries == unique_entries:\n",
    "    print(\"Every image entry is unique.\")\n",
    "else:\n",
    "    print(f\"There are {total_entries - unique_entries} duplicate image entries.\")"
   ]
  },
  {
   "cell_type": "markdown",
   "id": "4d63a7fc",
   "metadata": {
    "papermill": {
     "duration": 0.011973,
     "end_time": "2023-10-20T18:36:47.315858",
     "exception": false,
     "start_time": "2023-10-20T18:36:47.303885",
     "status": "completed"
    },
    "tags": []
   },
   "source": [
    "### Note: Before the below items (1.2, 1.3, 1.4), it will better to check what kind of inputs each model want. May be some model don't need to resize the image, simplify the color, etc."
   ]
  },
  {
   "cell_type": "markdown",
   "id": "ff7c94bd",
   "metadata": {
    "papermill": {
     "duration": 0.012555,
     "end_time": "2023-10-20T18:36:47.340544",
     "exception": false,
     "start_time": "2023-10-20T18:36:47.327989",
     "status": "completed"
    },
    "tags": []
   },
   "source": [
    "### 1.2 Image Quality Check\n",
    "**Here might be tricky**\n",
    "\n",
    "Image Quality Check: \n",
    "Check if all images are of \n",
    "1. consistent quality, \n",
    "2. resolution,\n",
    "3. orientation. \n",
    "4. Identify any corrupted or unreadable images.\n",
    "\n",
    "**Note**: Based on the suggestion from James, since those image are already labeled, they are very likely to be okay, such the as the resolution, orientation, and the size.\n",
    "\n",
    "Action:\n",
    "Just in case, \n",
    "\n",
    "1. write the code to check integrity for easy items, such as\n",
    "  a. if every single img has the same size\n",
    "  b. resolution same for each img? (how many pixels are displayed per inch of an image)\n",
    "2. Manually random choose a portion of images (may be quickly galance 1000 images?), to build confidence:\n",
    "  a. same orientation?\n",
    "  b. any corrupted data?"
   ]
  },
  {
   "cell_type": "markdown",
   "id": "5f51f0d7",
   "metadata": {
    "papermill": {
     "duration": 0.011871,
     "end_time": "2023-10-20T18:36:47.364628",
     "exception": false,
     "start_time": "2023-10-20T18:36:47.352757",
     "status": "completed"
    },
    "tags": []
   },
   "source": [
    "### 1.2.1 Coding Part for Simple Items\n",
    "Assignee: Jingchao Zhong"
   ]
  },
  {
   "cell_type": "markdown",
   "id": "e6249abe",
   "metadata": {
    "papermill": {
     "duration": 0.01195,
     "end_time": "2023-10-20T18:36:47.389078",
     "exception": false,
     "start_time": "2023-10-20T18:36:47.377128",
     "status": "completed"
    },
    "tags": []
   },
   "source": [
    "Note for the implementation:\n",
    "By observation, the `img` column of `driver_imgs_list.csv` only contain the image filenames for the training data set, which means the image files are located in the `imgs/train` folder. Thus, to check the quality of all available imgs, I scan directly for the images under `imgs` folder."
   ]
  },
  {
   "cell_type": "code",
   "execution_count": 8,
   "id": "774990a9",
   "metadata": {
    "execution": {
     "iopub.execute_input": "2023-10-20T18:36:47.416102Z",
     "iopub.status.busy": "2023-10-20T18:36:47.415643Z",
     "iopub.status.idle": "2023-10-20T18:51:32.319235Z",
     "shell.execute_reply": "2023-10-20T18:51:32.317709Z"
    },
    "papermill": {
     "duration": 884.920286,
     "end_time": "2023-10-20T18:51:32.322125",
     "exception": false,
     "start_time": "2023-10-20T18:36:47.401839",
     "status": "completed"
    },
    "tags": []
   },
   "outputs": [
    {
     "name": "stdout",
     "output_type": "stream",
     "text": [
      "start processing...\n"
     ]
    },
    {
     "name": "stderr",
     "output_type": "stream",
     "text": [
      "Scanning images: 100%|█████████████████████████████████████| 102150/102150 [12:12<00:00, 139.48it/s]"
     ]
    },
    {
     "name": "stdout",
     "output_type": "stream",
     "text": [
      "Total images scanned: 102150\n",
      "\n",
      "Size Statistics:\n",
      "Images with same size as reference: 102150\n",
      "Images with different size: 0\n",
      "Reference image size: (640, 480)\n",
      "\n",
      "Resolution Statistics:\n",
      "Images with same resolution as reference: 102150\n",
      "Images with different resolution: 0\n",
      "Reference image resolution: (None, None)\n"
     ]
    },
    {
     "name": "stderr",
     "output_type": "stream",
     "text": [
      "\n"
     ]
    }
   ],
   "source": [
    "class ImageScanner:\n",
    "    def __init__(self, path):\n",
    "        self.path = path\n",
    "        self.image_files = self._get_all_jpg_files()\n",
    "        self.statistics = {\n",
    "            \"total_images\": len(self.image_files),\n",
    "            \"same_size\": 0,\n",
    "            \"different_size\": 0,\n",
    "            \"same_resolution\": 0,\n",
    "            \"different_resolution\": 0,\n",
    "            \"reference_size\": None,\n",
    "            \"reference_resolution\": None,\n",
    "            \"size_issues\": defaultdict(list),\n",
    "            \"resolution_issues\": defaultdict(list)\n",
    "        }\n",
    "\n",
    "    def _get_all_jpg_files(self):\n",
    "        \"\"\"\n",
    "        Retrieve all jpg files in the specified directory, including subdirectories.\n",
    "        \"\"\"\n",
    "        jpg_files = []\n",
    "        for root, _, files in os.walk(self.path):\n",
    "            for file in files:\n",
    "                if file.lower().endswith(\".jpg\"):\n",
    "                    jpg_files.append(os.path.join(root, file))\n",
    "        return jpg_files\n",
    "\n",
    "    @staticmethod\n",
    "    def _get_image_size_and_resolution(image_path):\n",
    "        \"\"\"\n",
    "        Get the size and resolution of an image.\n",
    "        \"\"\"\n",
    "        with Image.open(image_path) as img:\n",
    "            size = img.size\n",
    "            resolution = img.info.get('dpi', (None, None))\n",
    "        return size, resolution\n",
    "\n",
    "    def scan_images(self):\n",
    "        if not self.image_files:\n",
    "            print(\"No JPG images found in the provided path.\")\n",
    "            return\n",
    "\n",
    "        reference_size, reference_resolution = self._get_image_size_and_resolution(self.image_files[0])\n",
    "        self.statistics[\"reference_size\"] = reference_size\n",
    "        self.statistics[\"reference_resolution\"] = reference_resolution\n",
    "\n",
    "        for image_path in tqdm(self.image_files, desc=\"Scanning images\", ncols=100):\n",
    "            current_size, current_resolution = self._get_image_size_and_resolution(image_path)\n",
    "            \n",
    "            if current_size == reference_size:\n",
    "                self.statistics[\"same_size\"] += 1\n",
    "            else:\n",
    "                self.statistics[\"different_size\"] += 1\n",
    "                self.statistics[\"size_issues\"][current_size].append(image_path)\n",
    "                \n",
    "            if current_resolution == reference_resolution:\n",
    "                self.statistics[\"same_resolution\"] += 1\n",
    "            else:\n",
    "                self.statistics[\"different_resolution\"] += 1\n",
    "                self.statistics[\"resolution_issues\"][current_resolution].append(image_path)\n",
    "\n",
    "    def display_statistics(self):\n",
    "        \"\"\"\n",
    "        Display the statistics after scanning the images.\n",
    "        \"\"\"\n",
    "        print(f\"Total images scanned: {self.statistics['total_images']}\")\n",
    "\n",
    "        # Size statistics\n",
    "        print(f\"\\nSize Statistics:\")\n",
    "        print(f\"Images with same size as reference: {self.statistics['same_size']}\")\n",
    "        print(f\"Images with different size: {self.statistics['different_size']}\")\n",
    "        print(f\"Reference image size: {self.statistics['reference_size']}\")\n",
    "\n",
    "        if self.statistics[\"size_issues\"]:\n",
    "            print(\"\\nDetails of images with different sizes:\")\n",
    "            for size, paths in self.statistics[\"size_issues\"].items():\n",
    "                print(f\"Size: {size}\")\n",
    "                for p in paths:\n",
    "                    print(f\"   - {p}\")\n",
    "\n",
    "        # Resolution statistics\n",
    "        print(f\"\\nResolution Statistics:\")\n",
    "        print(f\"Images with same resolution as reference: {self.statistics['same_resolution']}\")\n",
    "        print(f\"Images with different resolution: {self.statistics['different_resolution']}\")\n",
    "        print(f\"Reference image resolution: {self.statistics['reference_resolution']}\")\n",
    "\n",
    "        if self.statistics[\"resolution_issues\"]:\n",
    "            print(\"\\nDetails of images with different resolutions:\")\n",
    "            for resolution, paths in self.statistics[\"resolution_issues\"].items():\n",
    "                print(f\"Resolution: {resolution}\")\n",
    "                for p in paths:\n",
    "                    print(f\"   - {p}\")\n",
    "\n",
    "                    \n",
    "print(\"start processing...\")\n",
    "path = '/kaggle/input/state-farm-distracted-driver-detection/imgs/'\n",
    "scanner = ImageScanner(path)\n",
    "scanner.scan_images()\n",
    "scanner.display_statistics()"
   ]
  },
  {
   "cell_type": "markdown",
   "id": "2e7a0197",
   "metadata": {
    "papermill": {
     "duration": 0.618964,
     "end_time": "2023-10-20T18:51:33.553202",
     "exception": false,
     "start_time": "2023-10-20T18:51:32.934238",
     "status": "completed"
    },
    "tags": []
   },
   "source": [
    "### 1.2.2 Manual Part for Complicated Items\n",
    "Assignee: Jingchao Zhong"
   ]
  },
  {
   "cell_type": "markdown",
   "id": "c9992640",
   "metadata": {
    "papermill": {
     "duration": 0.617765,
     "end_time": "2023-10-20T18:51:34.849948",
     "exception": false,
     "start_time": "2023-10-20T18:51:34.232183",
     "status": "completed"
    },
    "tags": []
   },
   "source": [
    "Put your observations here:\n",
    "\n",
    "By manual observation, I so far observed that there are examples of images that have different enviroment light:\n",
    "\n",
    "Blue Enviroment Light:\n",
    "* `img_51066.jpg` (`C0` of `train` folder)\n",
    "\n",
    "\n",
    "Note:\n",
    "\n",
    "I stop here for now, since here takes a lot time. I might revisit this item later, if our model don't give good result."
   ]
  },
  {
   "cell_type": "markdown",
   "id": "47b31468",
   "metadata": {
    "papermill": {
     "duration": 0.609112,
     "end_time": "2023-10-20T18:51:36.070535",
     "exception": false,
     "start_time": "2023-10-20T18:51:35.461423",
     "status": "completed"
    },
    "tags": []
   },
   "source": [
    "### 1.3 Image Resizing?\n",
    "1. Does every image has the same size? Do we need to uniform the size?\n",
    "2. Is there a model require a specific size of image? (Don't know yet, we will find out later during model selection)\n",
    "\n",
    "Action: For the specific target image size, we don't yet. Revist this item when needed.\n",
    "\n",
    "Assigne: No Needed"
   ]
  },
  {
   "cell_type": "code",
   "execution_count": null,
   "id": "01f2f3a0",
   "metadata": {
    "papermill": {
     "duration": 0.684595,
     "end_time": "2023-10-20T18:51:37.372620",
     "exception": false,
     "start_time": "2023-10-20T18:51:36.688025",
     "status": "completed"
    },
    "tags": []
   },
   "outputs": [],
   "source": []
  },
  {
   "cell_type": "markdown",
   "id": "e2c68a83",
   "metadata": {
    "papermill": {
     "duration": 0.610771,
     "end_time": "2023-10-20T18:51:38.596840",
     "exception": false,
     "start_time": "2023-10-20T18:51:37.986069",
     "status": "completed"
    },
    "tags": []
   },
   "source": [
    "### 1.4 Data Augmentation?\n",
    "GPT4:  Given the nature of the challenge (distracted driving), augmenting the dataset with rotations, shifts, flips, etc., can be beneficial to make the model robust. Are there some preprocess needed to make the training more efficient?\n",
    "\n",
    "Note: Based on suggestions from James, there are already many advanced CV libraries handled those.\n",
    "\n",
    "Action: Skip here for now. If any of the model we gonna use requires a specific input format, then revise here. Though, it's not likely be the case.\n",
    "\n",
    "Assignee: No needed"
   ]
  },
  {
   "cell_type": "code",
   "execution_count": null,
   "id": "ff023b2f",
   "metadata": {
    "papermill": {
     "duration": 0.681904,
     "end_time": "2023-10-20T18:51:39.888458",
     "exception": false,
     "start_time": "2023-10-20T18:51:39.206554",
     "status": "completed"
    },
    "tags": []
   },
   "outputs": [],
   "source": []
  },
  {
   "cell_type": "markdown",
   "id": "6b6d90bc",
   "metadata": {
    "papermill": {
     "duration": 0.615627,
     "end_time": "2023-10-20T18:51:41.122543",
     "exception": false,
     "start_time": "2023-10-20T18:51:40.506916",
     "status": "completed"
    },
    "tags": []
   },
   "source": [
    "# 1.5 Splitting the Data\n",
    "Note: Images are already spliited into train and test folder, but we are only given one input csv. So here is where we need to split the csv into two parts. We need two data frames.\n",
    "\n",
    "Assignee: Jingchao Zhong"
   ]
  },
  {
   "attachments": {
    "36d8c23c-58b8-4c31-8185-cd212e4d3be4.png": {
     "image/png": "[encoded data removed]"
    }
   },
   "cell_type": "markdown",
   "id": "26a602f7",
   "metadata": {
    "papermill": {
     "duration": 0.637024,
     "end_time": "2023-10-20T18:51:42.450230",
     "exception": false,
     "start_time": "2023-10-20T18:51:41.813206",
     "status": "completed"
    },
    "tags": []
   },
   "source": [
    "Jingchao's Observation:\n",
    "\n",
    "Firstly, a clarification:\n",
    "\n",
    "Although we are provided with only one input CSV, this CSV contains only the image filenames from the `train` folder. It does not include any image filenames from the `test` folder. The images from the test folder are used to validate our model and to generate the output CSV, similar to sample_submission.csv. This is what Kaggle uses to evaluate the accuracy of our model.\n",
    "\n",
    "Therefore, when we discuss splitting the data here, we aren't referring to correlating filenames across different folders. Instead, we are doing what we practiced earlier in the course: splitting the image filenames in the `train` folder into training and testing datasets. This allows us to assess our model's accuracy locally.\n",
    "\n",
    "<img src=\"attachment:36d8c23c-58b8-4c31-8185-cd212e4d3be4.png\" width=\"300\" height=\"200\">"
   ]
  },
  {
   "cell_type": "code",
   "execution_count": 9,
   "id": "bd39583c",
   "metadata": {
    "execution": {
     "iopub.execute_input": "2023-10-20T18:51:43.679277Z",
     "iopub.status.busy": "2023-10-20T18:51:43.678093Z",
     "iopub.status.idle": "2023-10-20T18:51:43.699994Z",
     "shell.execute_reply": "2023-10-20T18:51:43.698211Z"
    },
    "papermill": {
     "duration": 0.640209,
     "end_time": "2023-10-20T18:51:43.702594",
     "exception": false,
     "start_time": "2023-10-20T18:51:43.062385",
     "status": "completed"
    },
    "tags": []
   },
   "outputs": [
    {
     "name": "stdout",
     "output_type": "stream",
     "text": [
      "Training dataset shape: (17939, 3)\n",
      "Testing dataset shape: (4485, 3)\n",
      "\n",
      "Check if the data is still balanced after splitting\n",
      "\n",
      "classname\n",
      "c0    0.112102\n",
      "c3    0.104409\n",
      "c5    0.104298\n",
      "c2    0.103462\n",
      "c4    0.103183\n",
      "c6    0.102626\n",
      "c1    0.099727\n",
      "c9    0.095658\n",
      "c7    0.089749\n",
      "c8    0.084787\n",
      "Name: proportion, dtype: float64\n",
      "classname\n",
      "c6    0.107915\n",
      "c0    0.106577\n",
      "c1    0.106577\n",
      "c4    0.105909\n",
      "c3    0.105463\n",
      "c2    0.102787\n",
      "c5    0.098328\n",
      "c9    0.092085\n",
      "c7    0.087402\n",
      "c8    0.086957\n",
      "Name: proportion, dtype: float64\n"
     ]
    }
   ],
   "source": [
    "# Implementation\n",
    "train_df, test_df = train_test_split(df, test_size=0.2, random_state=42)\n",
    "print(f\"Training dataset shape: {train_df.shape}\")\n",
    "print(f\"Testing dataset shape: {test_df.shape}\")\n",
    "\n",
    "print(\"\\nCheck if the data is still balanced after splitting\\n\")\n",
    "print(train_df['classname'].value_counts(normalize=True))\n",
    "print(test_df['classname'].value_counts(normalize=True))"
   ]
  },
  {
   "cell_type": "markdown",
   "id": "a0e1cf01",
   "metadata": {
    "papermill": {
     "duration": 0.620132,
     "end_time": "2023-10-20T18:51:45.009874",
     "exception": false,
     "start_time": "2023-10-20T18:51:44.389742",
     "status": "completed"
    },
    "tags": []
   },
   "source": [
    "## 2. Model Selection / Experiments\n",
    "We are quite new to this area, so let's do some experiments. James have provided some links he found seems to be helpful.\n",
    "\n",
    "Resources:\n",
    "> 1. Tenserflow has a lot of interesting examples here.\n",
    "https://www.tensorflow.org/lite/examples\n",
    "One that might be useful for you guys is this gesture recognition one\n",
    "https://github.com/tensorflow/examples/tree/master/lite/examples/gesture_classification/android\n",
    "\n",
    "> 2. Also check out the section here on using Google’s TeachableMachines\n",
    "https://github.com/jfd235/Interactive-Lab-Hub/tree/Fall2022/Lab%205\n",
    "\n",
    "> 3. These articles seem to point to repositories that already have code in Colab/Jupyter notebook form\n",
    "https://towardsdatascience.com/tutorial-using-deep-learning-and-cnns-to-make-a-hand-gesture-recognition-model-371770b63a51\n",
    "https://developers.google.com/mediapipe/solutions/customization/gesture_recognizer\n",
    "\n",
    "Final Note from James:\n",
    "> There are a ton of resources out there like this, so I’d pick one that looks easy (the TeachableMachines looks really easy to prototype with IMO), try it with a few of your images for training (no point in using all of them since we’re just testing things for now), and see if they can predict a few of your other images for testing"
   ]
  },
  {
   "cell_type": "markdown",
   "id": "aa0e4e4c",
   "metadata": {
    "papermill": {
     "duration": 0.614706,
     "end_time": "2023-10-20T18:51:46.254404",
     "exception": false,
     "start_time": "2023-10-20T18:51:45.639698",
     "status": "completed"
    },
    "tags": []
   },
   "source": [
    "### 2.1 Experiements Report for those sources\n",
    "Don't have to be only one assignee.\n",
    "Assignee:"
   ]
  },
  {
   "cell_type": "code",
   "execution_count": null,
   "id": "318a1589",
   "metadata": {
    "papermill": {
     "duration": 0.614407,
     "end_time": "2023-10-20T18:51:47.550293",
     "exception": false,
     "start_time": "2023-10-20T18:51:46.935886",
     "status": "completed"
    },
    "tags": []
   },
   "outputs": [],
   "source": []
  }
 ],
 "metadata": {
  "kernelspec": {
   "display_name": "Python 3",
   "language": "python",
   "name": "python3"
  },
  "language_info": {
   "codemirror_mode": {
    "name": "ipython",
    "version": 3
   },
   "file_extension": ".py",
   "mimetype": "text/x-python",
   "name": "python",
   "nbconvert_exporter": "python",
   "pygments_lexer": "ipython3",
   "version": "3.10.12"
  },
  "papermill": {
   "default_parameters": {},
   "duration": 936.4306,
   "end_time": "2023-10-20T18:51:48.790886",
   "environment_variables": {},
   "exception": null,
   "input_path": "__notebook__.ipynb",
   "output_path": "__notebook__.ipynb",
   "parameters": {},
   "start_time": "2023-10-20T18:36:12.360286",
   "version": "2.4.0"
  }
 },
 "nbformat": 4,
 "nbformat_minor": 5
}
