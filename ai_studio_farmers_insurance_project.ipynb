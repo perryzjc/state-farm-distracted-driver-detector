{
  "metadata": {
    "kernelspec": {
      "display_name": "Python 3",
      "name": "python3"
    },
    "language_info": {
      "name": "python",
      "version": "3.10.12",
      "mimetype": "text/x-python",
      "codemirror_mode": {
        "name": "ipython",
        "version": 3
      },
      "pygments_lexer": "ipython3",
      "nbconvert_exporter": "python",
      "file_extension": ".py"
    },
    "colab": {
      "provenance": [],
      "collapsed_sections": [
        "g9KvwxP1kvnL"
      ],
      "machine_shape": "hm",
      "gpuType": "V100",
      "include_colab_link": true
    },
    "accelerator": "GPU"
  },
  "nbformat_minor": 0,
  "nbformat": 4,
  "cells": [
    {
      "cell_type": "markdown",
      "metadata": {
        "id": "view-in-github",
        "colab_type": "text"
      },
      "source": [
        "<a href=\"https://colab.research.google.com/github/perryzjc/state-farm-distracted-driver-detector/blob/v1/ai_studio_farmers_insurance_project.ipynb\" target=\"_parent\"><img src=\"https://colab.research.google.com/assets/colab-badge.svg\" alt=\"Open In Colab\"/></a>"
      ]
    },
    {
      "cell_type": "markdown",
      "source": [
        "# State Farm Distracted Driver Detection"
      ],
      "metadata": {
        "execution": {
          "iopub.status.busy": "2023-10-07T19:04:16.578371Z",
          "iopub.execute_input": "2023-10-07T19:04:16.578738Z",
          "iopub.status.idle": "2023-10-07T19:04:16.584062Z",
          "shell.execute_reply.started": "2023-10-07T19:04:16.578710Z",
          "shell.execute_reply": "2023-10-07T19:04:16.583218Z"
        },
        "id": "MwWnniznkvnG"
      }
    },
    {
      "cell_type": "markdown",
      "source": [
        "## Libraries"
      ],
      "metadata": {
        "id": "5uyN13SIkvnH"
      }
    },
    {
      "cell_type": "code",
      "source": [
        "# For downloading data set\n",
        "!pip install kaggle\n",
        "\n",
        "# Install system packages for image processing and machine learning\n",
        "!pip install Pillow\n",
        "!pip install opencv-python\n",
        "\n",
        "# Install TensorFlow with optional CUDA support for GPU acceleration\n",
        "!pip install tensorflow[and-cuda]\n",
        "\n",
        "# Install tqdm for visual progress bars\n",
        "!pip install tqdm"
      ],
      "metadata": {
        "execution": {
          "iopub.status.busy": "2023-10-20T17:50:44.355050Z",
          "iopub.execute_input": "2023-10-20T17:50:44.355401Z",
          "iopub.status.idle": "2023-10-20T17:51:03.552293Z",
          "shell.execute_reply.started": "2023-10-20T17:50:44.355375Z",
          "shell.execute_reply": "2023-10-20T17:51:03.549981Z"
        },
        "trusted": true,
        "colab": {
          "base_uri": "https://localhost:8080/"
        },
        "id": "8hD9QlzskvnI",
        "outputId": "c42d2e5f-760b-4435-fa49-8f29c11db9e2"
      },
      "execution_count": null,
      "outputs": [
        {
          "output_type": "stream",
          "name": "stdout",
          "text": [
            "Requirement already satisfied: kaggle in /usr/local/lib/python3.10/dist-packages (1.5.16)\n",
            "Requirement already satisfied: six>=1.10 in /usr/local/lib/python3.10/dist-packages (from kaggle) (1.16.0)\n",
            "Requirement already satisfied: certifi in /usr/local/lib/python3.10/dist-packages (from kaggle) (2023.7.22)\n",
            "Requirement already satisfied: python-dateutil in /usr/local/lib/python3.10/dist-packages (from kaggle) (2.8.2)\n",
            "Requirement already satisfied: requests in /usr/local/lib/python3.10/dist-packages (from kaggle) (2.31.0)\n",
            "Requirement already satisfied: tqdm in /usr/local/lib/python3.10/dist-packages (from kaggle) (4.66.1)\n",
            "Requirement already satisfied: python-slugify in /usr/local/lib/python3.10/dist-packages (from kaggle) (8.0.1)\n",
            "Requirement already satisfied: urllib3 in /usr/local/lib/python3.10/dist-packages (from kaggle) (2.0.7)\n",
            "Requirement already satisfied: bleach in /usr/local/lib/python3.10/dist-packages (from kaggle) (6.1.0)\n",
            "Requirement already satisfied: webencodings in /usr/local/lib/python3.10/dist-packages (from bleach->kaggle) (0.5.1)\n",
            "Requirement already satisfied: text-unidecode>=1.3 in /usr/local/lib/python3.10/dist-packages (from python-slugify->kaggle) (1.3)\n",
            "Requirement already satisfied: charset-normalizer<4,>=2 in /usr/local/lib/python3.10/dist-packages (from requests->kaggle) (3.3.1)\n",
            "Requirement already satisfied: idna<4,>=2.5 in /usr/local/lib/python3.10/dist-packages (from requests->kaggle) (3.4)\n",
            "\u001b[31mERROR: Operation cancelled by user\u001b[0m\u001b[31m\n",
            "\u001b[0mRequirement already satisfied: Pillow in /usr/local/lib/python3.10/dist-packages (9.4.0)\n",
            "Requirement already satisfied: opencv-python in /usr/local/lib/python3.10/dist-packages (4.8.0.76)\n",
            "Requirement already satisfied: numpy>=1.21.2 in /usr/local/lib/python3.10/dist-packages (from opencv-python) (1.23.5)\n",
            "Requirement already satisfied: tensorflow[and-cuda] in /usr/local/lib/python3.10/dist-packages (2.14.0)\n",
            "Requirement already satisfied: absl-py>=1.0.0 in /usr/local/lib/python3.10/dist-packages (from tensorflow[and-cuda]) (1.4.0)\n",
            "Requirement already satisfied: astunparse>=1.6.0 in /usr/local/lib/python3.10/dist-packages (from tensorflow[and-cuda]) (1.6.3)\n",
            "Requirement already satisfied: flatbuffers>=23.5.26 in /usr/local/lib/python3.10/dist-packages (from tensorflow[and-cuda]) (23.5.26)\n",
            "Requirement already satisfied: gast!=0.5.0,!=0.5.1,!=0.5.2,>=0.2.1 in /usr/local/lib/python3.10/dist-packages (from tensorflow[and-cuda]) (0.5.4)\n",
            "Requirement already satisfied: google-pasta>=0.1.1 in /usr/local/lib/python3.10/dist-packages (from tensorflow[and-cuda]) (0.2.0)\n",
            "Requirement already satisfied: h5py>=2.9.0 in /usr/local/lib/python3.10/dist-packages (from tensorflow[and-cuda]) (3.9.0)\n",
            "Requirement already satisfied: libclang>=13.0.0 in /usr/local/lib/python3.10/dist-packages (from tensorflow[and-cuda]) (16.0.6)\n",
            "Requirement already satisfied: ml-dtypes==0.2.0 in /usr/local/lib/python3.10/dist-packages (from tensorflow[and-cuda]) (0.2.0)\n",
            "Requirement already satisfied: numpy>=1.23.5 in /usr/local/lib/python3.10/dist-packages (from tensorflow[and-cuda]) (1.23.5)\n",
            "Requirement already satisfied: opt-einsum>=2.3.2 in /usr/local/lib/python3.10/dist-packages (from tensorflow[and-cuda]) (3.3.0)\n",
            "Requirement already satisfied: packaging in /usr/local/lib/python3.10/dist-packages (from tensorflow[and-cuda]) (23.2)\n",
            "Requirement already satisfied: protobuf!=4.21.0,!=4.21.1,!=4.21.2,!=4.21.3,!=4.21.4,!=4.21.5,<5.0.0dev,>=3.20.3 in /usr/local/lib/python3.10/dist-packages (from tensorflow[and-cuda]) (3.20.3)\n",
            "Requirement already satisfied: setuptools in /usr/local/lib/python3.10/dist-packages (from tensorflow[and-cuda]) (67.7.2)\n",
            "Requirement already satisfied: six>=1.12.0 in /usr/local/lib/python3.10/dist-packages (from tensorflow[and-cuda]) (1.16.0)\n",
            "Requirement already satisfied: termcolor>=1.1.0 in /usr/local/lib/python3.10/dist-packages (from tensorflow[and-cuda]) (2.3.0)\n",
            "Requirement already satisfied: typing-extensions>=3.6.6 in /usr/local/lib/python3.10/dist-packages (from tensorflow[and-cuda]) (4.5.0)\n",
            "Requirement already satisfied: wrapt<1.15,>=1.11.0 in /usr/local/lib/python3.10/dist-packages (from tensorflow[and-cuda]) (1.14.1)\n",
            "Requirement already satisfied: tensorflow-io-gcs-filesystem>=0.23.1 in /usr/local/lib/python3.10/dist-packages (from tensorflow[and-cuda]) (0.34.0)\n",
            "Requirement already satisfied: grpcio<2.0,>=1.24.3 in /usr/local/lib/python3.10/dist-packages (from tensorflow[and-cuda]) (1.59.0)\n",
            "Requirement already satisfied: tensorboard<2.15,>=2.14 in /usr/local/lib/python3.10/dist-packages (from tensorflow[and-cuda]) (2.14.1)\n",
            "Requirement already satisfied: tensorflow-estimator<2.15,>=2.14.0 in /usr/local/lib/python3.10/dist-packages (from tensorflow[and-cuda]) (2.14.0)\n",
            "Requirement already satisfied: keras<2.15,>=2.14.0 in /usr/local/lib/python3.10/dist-packages (from tensorflow[and-cuda]) (2.14.0)\n",
            "Collecting nvidia-cuda-runtime-cu11==11.8.89 (from tensorflow[and-cuda])\n",
            "  Downloading nvidia_cuda_runtime_cu11-11.8.89-py3-none-manylinux1_x86_64.whl (875 kB)\n",
            "\u001b[2K     \u001b[90m━━━━━━━━━━━━━━━━━━━━━━━━━━━━━━━━━━━━━━━━\u001b[0m \u001b[32m875.6/875.6 kB\u001b[0m \u001b[31m10.3 MB/s\u001b[0m eta \u001b[36m0:00:00\u001b[0m\n",
            "\u001b[?25hCollecting nvidia-cublas-cu11==11.11.3.6 (from tensorflow[and-cuda])\n",
            "  Downloading nvidia_cublas_cu11-11.11.3.6-py3-none-manylinux1_x86_64.whl (417.9 MB)\n",
            "\u001b[2K     \u001b[90m━━━━━━━━━━━━━━━━━━━━━━━━━━━━━━━━━━━━━━━━\u001b[0m \u001b[32m417.9/417.9 MB\u001b[0m \u001b[31m3.5 MB/s\u001b[0m eta \u001b[36m0:00:00\u001b[0m\n",
            "\u001b[?25hCollecting nvidia-cufft-cu11==10.9.0.58 (from tensorflow[and-cuda])\n",
            "  Downloading nvidia_cufft_cu11-10.9.0.58-py3-none-manylinux1_x86_64.whl (168.4 MB)\n",
            "\u001b[2K     \u001b[90m━━━━━━━━━━━━━━━━━━━━━━━━━━━━━━━━━━━━━━━━\u001b[0m \u001b[32m168.4/168.4 MB\u001b[0m \u001b[31m6.3 MB/s\u001b[0m eta \u001b[36m0:00:00\u001b[0m\n",
            "\u001b[?25hCollecting nvidia-cudnn-cu11==8.7.0.84 (from tensorflow[and-cuda])\n",
            "  Downloading nvidia_cudnn_cu11-8.7.0.84-py3-none-manylinux1_x86_64.whl (728.5 MB)\n",
            "\u001b[2K     \u001b[90m━━━━━━━━━━━━━━━━━━━━━━━━━━━━━━━━━━━━━━━━\u001b[0m \u001b[32m728.5/728.5 MB\u001b[0m \u001b[31m2.0 MB/s\u001b[0m eta \u001b[36m0:00:00\u001b[0m\n",
            "\u001b[?25hCollecting nvidia-curand-cu11==10.3.0.86 (from tensorflow[and-cuda])\n",
            "  Downloading nvidia_curand_cu11-10.3.0.86-py3-none-manylinux1_x86_64.whl (58.1 MB)\n",
            "\u001b[2K     \u001b[90m━━━━━━━━━━━━━━━━━━━━━━━━━━━━━━━━━━━━━━━━\u001b[0m \u001b[32m58.1/58.1 MB\u001b[0m \u001b[31m11.8 MB/s\u001b[0m eta \u001b[36m0:00:00\u001b[0m\n",
            "\u001b[?25hCollecting nvidia-cusolver-cu11==11.4.1.48 (from tensorflow[and-cuda])\n",
            "  Downloading nvidia_cusolver_cu11-11.4.1.48-py3-none-manylinux1_x86_64.whl (128.2 MB)\n",
            "\u001b[2K     \u001b[90m━━━━━━━━━━━━━━━━━━━━━━━━━━━━━━━━━━━━━━━━\u001b[0m \u001b[32m128.2/128.2 MB\u001b[0m \u001b[31m8.0 MB/s\u001b[0m eta \u001b[36m0:00:00\u001b[0m\n",
            "\u001b[?25hCollecting nvidia-cusparse-cu11==11.7.5.86 (from tensorflow[and-cuda])\n",
            "  Downloading nvidia_cusparse_cu11-11.7.5.86-py3-none-manylinux1_x86_64.whl (204.1 MB)\n",
            "\u001b[2K     \u001b[90m━━━━━━━━━━━━━━━━━━━━━━━━━━━━━━━━━━━━━━━━\u001b[0m \u001b[32m204.1/204.1 MB\u001b[0m \u001b[31m7.0 MB/s\u001b[0m eta \u001b[36m0:00:00\u001b[0m\n",
            "\u001b[?25hCollecting nvidia-nccl-cu11==2.16.5 (from tensorflow[and-cuda])\n",
            "  Downloading nvidia_nccl_cu11-2.16.5-py3-none-manylinux1_x86_64.whl (210.3 MB)\n",
            "\u001b[2K     \u001b[90m━━━━━━━━━━━━━━━━━━━━━━━━━━━━━━━━━━━━━━━━\u001b[0m \u001b[32m210.3/210.3 MB\u001b[0m \u001b[31m4.3 MB/s\u001b[0m eta \u001b[36m0:00:00\u001b[0m\n",
            "\u001b[?25hCollecting nvidia-cuda-cupti-cu11==11.8.87 (from tensorflow[and-cuda])\n",
            "  Downloading nvidia_cuda_cupti_cu11-11.8.87-py3-none-manylinux1_x86_64.whl (13.1 MB)\n",
            "\u001b[2K     \u001b[90m━━━━━━━━━━━━━━━━━━━━━━━━━━━━━━━━━━━━━━━━\u001b[0m \u001b[32m13.1/13.1 MB\u001b[0m \u001b[31m27.6 MB/s\u001b[0m eta \u001b[36m0:00:00\u001b[0m\n",
            "\u001b[?25hCollecting nvidia-cuda-nvcc-cu11==11.8.89 (from tensorflow[and-cuda])\n",
            "  Downloading nvidia_cuda_nvcc_cu11-11.8.89-py3-none-manylinux1_x86_64.whl (19.5 MB)\n",
            "\u001b[2K     \u001b[90m━━━━━━━━━━━━━━━━━━━━━━━━━━━━━━━━━━━━━━━━\u001b[0m \u001b[32m19.5/19.5 MB\u001b[0m \u001b[31m55.1 MB/s\u001b[0m eta \u001b[36m0:00:00\u001b[0m\n",
            "\u001b[?25hCollecting tensorrt==8.5.3.1 (from tensorflow[and-cuda])\n",
            "  Downloading tensorrt-8.5.3.1-cp310-none-manylinux_2_17_x86_64.whl (549.5 MB)\n",
            "\u001b[2K     \u001b[90m━━━━━━━━━━━━━━━━━━━━━━━━━━━━━━━━━━━━━━━━\u001b[0m \u001b[32m549.5/549.5 MB\u001b[0m \u001b[31m2.6 MB/s\u001b[0m eta \u001b[36m0:00:00\u001b[0m\n",
            "\u001b[?25hRequirement already satisfied: wheel<1.0,>=0.23.0 in /usr/local/lib/python3.10/dist-packages (from astunparse>=1.6.0->tensorflow[and-cuda]) (0.41.2)\n",
            "Requirement already satisfied: google-auth<3,>=1.6.3 in /usr/local/lib/python3.10/dist-packages (from tensorboard<2.15,>=2.14->tensorflow[and-cuda]) (2.17.3)\n",
            "Requirement already satisfied: google-auth-oauthlib<1.1,>=0.5 in /usr/local/lib/python3.10/dist-packages (from tensorboard<2.15,>=2.14->tensorflow[and-cuda]) (1.0.0)\n",
            "Requirement already satisfied: markdown>=2.6.8 in /usr/local/lib/python3.10/dist-packages (from tensorboard<2.15,>=2.14->tensorflow[and-cuda]) (3.5)\n",
            "Requirement already satisfied: requests<3,>=2.21.0 in /usr/local/lib/python3.10/dist-packages (from tensorboard<2.15,>=2.14->tensorflow[and-cuda]) (2.31.0)\n",
            "Requirement already satisfied: tensorboard-data-server<0.8.0,>=0.7.0 in /usr/local/lib/python3.10/dist-packages (from tensorboard<2.15,>=2.14->tensorflow[and-cuda]) (0.7.2)\n",
            "Requirement already satisfied: werkzeug>=1.0.1 in /usr/local/lib/python3.10/dist-packages (from tensorboard<2.15,>=2.14->tensorflow[and-cuda]) (3.0.1)\n",
            "Requirement already satisfied: cachetools<6.0,>=2.0.0 in /usr/local/lib/python3.10/dist-packages (from google-auth<3,>=1.6.3->tensorboard<2.15,>=2.14->tensorflow[and-cuda]) (5.3.2)\n",
            "Requirement already satisfied: pyasn1-modules>=0.2.1 in /usr/local/lib/python3.10/dist-packages (from google-auth<3,>=1.6.3->tensorboard<2.15,>=2.14->tensorflow[and-cuda]) (0.3.0)\n",
            "Requirement already satisfied: rsa<5,>=3.1.4 in /usr/local/lib/python3.10/dist-packages (from google-auth<3,>=1.6.3->tensorboard<2.15,>=2.14->tensorflow[and-cuda]) (4.9)\n",
            "Requirement already satisfied: requests-oauthlib>=0.7.0 in /usr/local/lib/python3.10/dist-packages (from google-auth-oauthlib<1.1,>=0.5->tensorboard<2.15,>=2.14->tensorflow[and-cuda]) (1.3.1)\n",
            "Requirement already satisfied: charset-normalizer<4,>=2 in /usr/local/lib/python3.10/dist-packages (from requests<3,>=2.21.0->tensorboard<2.15,>=2.14->tensorflow[and-cuda]) (3.3.1)\n",
            "Requirement already satisfied: idna<4,>=2.5 in /usr/local/lib/python3.10/dist-packages (from requests<3,>=2.21.0->tensorboard<2.15,>=2.14->tensorflow[and-cuda]) (3.4)\n",
            "Requirement already satisfied: urllib3<3,>=1.21.1 in /usr/local/lib/python3.10/dist-packages (from requests<3,>=2.21.0->tensorboard<2.15,>=2.14->tensorflow[and-cuda]) (2.0.7)\n",
            "Requirement already satisfied: certifi>=2017.4.17 in /usr/local/lib/python3.10/dist-packages (from requests<3,>=2.21.0->tensorboard<2.15,>=2.14->tensorflow[and-cuda]) (2023.7.22)\n",
            "Requirement already satisfied: MarkupSafe>=2.1.1 in /usr/local/lib/python3.10/dist-packages (from werkzeug>=1.0.1->tensorboard<2.15,>=2.14->tensorflow[and-cuda]) (2.1.3)\n",
            "Requirement already satisfied: pyasn1<0.6.0,>=0.4.6 in /usr/local/lib/python3.10/dist-packages (from pyasn1-modules>=0.2.1->google-auth<3,>=1.6.3->tensorboard<2.15,>=2.14->tensorflow[and-cuda]) (0.5.0)\n",
            "Requirement already satisfied: oauthlib>=3.0.0 in /usr/local/lib/python3.10/dist-packages (from requests-oauthlib>=0.7.0->google-auth-oauthlib<1.1,>=0.5->tensorboard<2.15,>=2.14->tensorflow[and-cuda]) (3.2.2)\n",
            "Installing collected packages: nvidia-nccl-cu11, nvidia-cusparse-cu11, nvidia-curand-cu11, nvidia-cufft-cu11, nvidia-cuda-runtime-cu11, nvidia-cuda-nvcc-cu11, nvidia-cuda-cupti-cu11, nvidia-cublas-cu11, nvidia-cusolver-cu11, nvidia-cudnn-cu11, tensorrt\n",
            "Successfully installed nvidia-cublas-cu11-11.11.3.6 nvidia-cuda-cupti-cu11-11.8.87 nvidia-cuda-nvcc-cu11-11.8.89 nvidia-cuda-runtime-cu11-11.8.89 nvidia-cudnn-cu11-8.7.0.84 nvidia-cufft-cu11-10.9.0.58 nvidia-curand-cu11-10.3.0.86 nvidia-cusolver-cu11-11.4.1.48 nvidia-cusparse-cu11-11.7.5.86 nvidia-nccl-cu11-2.16.5 tensorrt-8.5.3.1\n",
            "Requirement already satisfied: tqdm in /usr/local/lib/python3.10/dist-packages (4.66.1)\n"
          ]
        }
      ]
    },
    {
      "cell_type": "code",
      "source": [
        "# System built-in modules\n",
        "from collections import defaultdict\n",
        "import os\n",
        "\n",
        "# Third-party modules\n",
        "from PIL import Image\n",
        "import matplotlib.pyplot as plt\n",
        "import pandas as pd\n",
        "from sklearn.model_selection import train_test_split\n",
        "import tensorflow as tf\n",
        "from tqdm import tqdm\n",
        "\n",
        "# Local/application-specific imports\n",
        "from google.colab import drive\n",
        "\n",
        "\n"
      ],
      "metadata": {
        "execution": {
          "iopub.status.busy": "2023-11-04T22:09:21.103634Z",
          "iopub.execute_input": "2023-11-04T22:09:21.104068Z",
          "iopub.status.idle": "2023-11-04T22:09:22.185830Z",
          "shell.execute_reply.started": "2023-11-04T22:09:21.104014Z",
          "shell.execute_reply": "2023-11-04T22:09:22.184910Z"
        },
        "trusted": true,
        "id": "XusQ7n0fkvnI"
      },
      "execution_count": 1,
      "outputs": []
    },
    {
      "cell_type": "code",
      "source": [
        "# Import necessary libraries\n",
        "import os\n",
        "import pandas as pd\n",
        "from google.colab import drive\n",
        "\n",
        "# Data Set Download Helper\n",
        "\n",
        "# Mount Google Drive (specific to Google Colab, not a standard import)\n",
        "drive.mount('/content/drive', force_remount=True)\n",
        "\n",
        "\n",
        "# Path to the shared folder on Google Drive\n",
        "# Replace '/content/drive/My Drive/data_set/data/state-farm-distracted-driver-detection' with the actual path to your shared folder\n",
        "shared_folder_path = '/content/drive/My Drive/data_set/jingchao/data/state-farm-distracted-driver-detection'\n",
        "imgs_path = os.path.join(shared_folder_path, 'imgs')\n",
        "\n",
        "# Path to the dataset within the shared folder\n",
        "dataset_path = os.path.join(shared_folder_path, 'driver_imgs_list.csv')\n",
        "\n",
        "# Path to the zip file within the shared folder\n",
        "zip_file_path = os.path.join(shared_folder_path, 'state-farm-distracted-driver-detection.zip')\n",
        "\n",
        "# Check if the dataset already exists in the shared folder\n",
        "if not os.path.exists(dataset_path):\n",
        "    # If the dataset doesn't exist, check if the zip file exists\n",
        "    if os.path.exists(zip_file_path):\n",
        "        # If the zip file exists, unzip it\n",
        "        !unzip '{zip_file_path}' -d '{shared_folder_path}'\n",
        "    else:\n",
        "        # If the zip file doesn't exist, proceed to download it from Kaggle\n",
        "\n",
        "        # Install the Kaggle API client\n",
        "        !pip install kaggle\n",
        "\n",
        "        # Upload the Kaggle API token (kaggle.json)\n",
        "        # Note: This step is necessary for the first time or whenever the kaggle.json file changes\n",
        "        from google.colab import files\n",
        "        print(\"Please upload your kaggle.json file\")\n",
        "        files.upload()\n",
        "\n",
        "        # Set up the Kaggle directory and credentials\n",
        "        !mkdir -p ~/.kaggle\n",
        "        !mv kaggle.json ~/.kaggle/\n",
        "        !chmod 600 ~/.kaggle/kaggle.json\n",
        "\n",
        "        # Download the dataset from Kaggle to the shared folder\n",
        "        !kaggle competitions download -c state-farm-distracted-driver-detection -p '{shared_folder_path}'\n",
        "\n",
        "        # Unzip the dataset\n",
        "        !unzip '{shared_folder_path}/dataset.zip' -d '{shared_folder_path}'\n",
        "\n",
        "# Now the dataset is available in the shared folder, either pre-existing or downloaded from Kaggle\n",
        "# Load the dataset into a pandas DataFrame\n",
        "df = pd.read_csv(dataset_path)\n",
        "\n",
        "# Your code here...\n"
      ],
      "metadata": {
        "colab": {
          "base_uri": "https://localhost:8080/"
        },
        "id": "aaJMcXlpu9sv",
        "outputId": "ef17c53c-84ef-43af-c139-fc01d5cd2d11"
      },
      "execution_count": 4,
      "outputs": [
        {
          "output_type": "stream",
          "name": "stdout",
          "text": [
            "Mounted at /content/drive\n"
          ]
        }
      ]
    },
    {
      "cell_type": "markdown",
      "source": [
        "## 0. Load Data\n",
        "The data contains information about the images and their respective classes"
      ],
      "metadata": {
        "id": "YY7z8fsikvnI"
      }
    },
    {
      "cell_type": "code",
      "source": [
        "df.head(5)"
      ],
      "metadata": {
        "execution": {
          "iopub.status.busy": "2023-11-04T22:09:25.037925Z",
          "iopub.execute_input": "2023-11-04T22:09:25.038479Z",
          "iopub.status.idle": "2023-11-04T22:09:25.099148Z",
          "shell.execute_reply.started": "2023-11-04T22:09:25.038446Z",
          "shell.execute_reply": "2023-11-04T22:09:25.098013Z"
        },
        "trusted": true,
        "colab": {
          "base_uri": "https://localhost:8080/",
          "height": 206
        },
        "id": "cfoMPRsnkvnI",
        "outputId": "c43310d9-96b8-457d-e27a-34964f86773b"
      },
      "execution_count": 5,
      "outputs": [
        {
          "output_type": "execute_result",
          "data": {
            "text/plain": [
              "  subject classname            img\n",
              "0    p002        c0  img_44733.jpg\n",
              "1    p002        c0  img_72999.jpg\n",
              "2    p002        c0  img_25094.jpg\n",
              "3    p002        c0  img_69092.jpg\n",
              "4    p002        c0  img_92629.jpg"
            ],
            "text/html": [
              "\n",
              "  <div id=\"df-64a068c9-5022-4414-b432-0f919b6dbe86\" class=\"colab-df-container\">\n",
              "    <div>\n",
              "<style scoped>\n",
              "    .dataframe tbody tr th:only-of-type {\n",
              "        vertical-align: middle;\n",
              "    }\n",
              "\n",
              "    .dataframe tbody tr th {\n",
              "        vertical-align: top;\n",
              "    }\n",
              "\n",
              "    .dataframe thead th {\n",
              "        text-align: right;\n",
              "    }\n",
              "</style>\n",
              "<table border=\"1\" class=\"dataframe\">\n",
              "  <thead>\n",
              "    <tr style=\"text-align: right;\">\n",
              "      <th></th>\n",
              "      <th>subject</th>\n",
              "      <th>classname</th>\n",
              "      <th>img</th>\n",
              "    </tr>\n",
              "  </thead>\n",
              "  <tbody>\n",
              "    <tr>\n",
              "      <th>0</th>\n",
              "      <td>p002</td>\n",
              "      <td>c0</td>\n",
              "      <td>img_44733.jpg</td>\n",
              "    </tr>\n",
              "    <tr>\n",
              "      <th>1</th>\n",
              "      <td>p002</td>\n",
              "      <td>c0</td>\n",
              "      <td>img_72999.jpg</td>\n",
              "    </tr>\n",
              "    <tr>\n",
              "      <th>2</th>\n",
              "      <td>p002</td>\n",
              "      <td>c0</td>\n",
              "      <td>img_25094.jpg</td>\n",
              "    </tr>\n",
              "    <tr>\n",
              "      <th>3</th>\n",
              "      <td>p002</td>\n",
              "      <td>c0</td>\n",
              "      <td>img_69092.jpg</td>\n",
              "    </tr>\n",
              "    <tr>\n",
              "      <th>4</th>\n",
              "      <td>p002</td>\n",
              "      <td>c0</td>\n",
              "      <td>img_92629.jpg</td>\n",
              "    </tr>\n",
              "  </tbody>\n",
              "</table>\n",
              "</div>\n",
              "    <div class=\"colab-df-buttons\">\n",
              "\n",
              "  <div class=\"colab-df-container\">\n",
              "    <button class=\"colab-df-convert\" onclick=\"convertToInteractive('df-64a068c9-5022-4414-b432-0f919b6dbe86')\"\n",
              "            title=\"Convert this dataframe to an interactive table.\"\n",
              "            style=\"display:none;\">\n",
              "\n",
              "  <svg xmlns=\"http://www.w3.org/2000/svg\" height=\"24px\" viewBox=\"0 -960 960 960\">\n",
              "    <path d=\"M120-120v-720h720v720H120Zm60-500h600v-160H180v160Zm220 220h160v-160H400v160Zm0 220h160v-160H400v160ZM180-400h160v-160H180v160Zm440 0h160v-160H620v160ZM180-180h160v-160H180v160Zm440 0h160v-160H620v160Z\"/>\n",
              "  </svg>\n",
              "    </button>\n",
              "\n",
              "  <style>\n",
              "    .colab-df-container {\n",
              "      display:flex;\n",
              "      gap: 12px;\n",
              "    }\n",
              "\n",
              "    .colab-df-convert {\n",
              "      background-color: #E8F0FE;\n",
              "      border: none;\n",
              "      border-radius: 50%;\n",
              "      cursor: pointer;\n",
              "      display: none;\n",
              "      fill: #1967D2;\n",
              "      height: 32px;\n",
              "      padding: 0 0 0 0;\n",
              "      width: 32px;\n",
              "    }\n",
              "\n",
              "    .colab-df-convert:hover {\n",
              "      background-color: #E2EBFA;\n",
              "      box-shadow: 0px 1px 2px rgba(60, 64, 67, 0.3), 0px 1px 3px 1px rgba(60, 64, 67, 0.15);\n",
              "      fill: #174EA6;\n",
              "    }\n",
              "\n",
              "    .colab-df-buttons div {\n",
              "      margin-bottom: 4px;\n",
              "    }\n",
              "\n",
              "    [theme=dark] .colab-df-convert {\n",
              "      background-color: #3B4455;\n",
              "      fill: #D2E3FC;\n",
              "    }\n",
              "\n",
              "    [theme=dark] .colab-df-convert:hover {\n",
              "      background-color: #434B5C;\n",
              "      box-shadow: 0px 1px 3px 1px rgba(0, 0, 0, 0.15);\n",
              "      filter: drop-shadow(0px 1px 2px rgba(0, 0, 0, 0.3));\n",
              "      fill: #FFFFFF;\n",
              "    }\n",
              "  </style>\n",
              "\n",
              "    <script>\n",
              "      const buttonEl =\n",
              "        document.querySelector('#df-64a068c9-5022-4414-b432-0f919b6dbe86 button.colab-df-convert');\n",
              "      buttonEl.style.display =\n",
              "        google.colab.kernel.accessAllowed ? 'block' : 'none';\n",
              "\n",
              "      async function convertToInteractive(key) {\n",
              "        const element = document.querySelector('#df-64a068c9-5022-4414-b432-0f919b6dbe86');\n",
              "        const dataTable =\n",
              "          await google.colab.kernel.invokeFunction('convertToInteractive',\n",
              "                                                    [key], {});\n",
              "        if (!dataTable) return;\n",
              "\n",
              "        const docLinkHtml = 'Like what you see? Visit the ' +\n",
              "          '<a target=\"_blank\" href=https://colab.research.google.com/notebooks/data_table.ipynb>data table notebook</a>'\n",
              "          + ' to learn more about interactive tables.';\n",
              "        element.innerHTML = '';\n",
              "        dataTable['output_type'] = 'display_data';\n",
              "        await google.colab.output.renderOutput(dataTable, element);\n",
              "        const docLink = document.createElement('div');\n",
              "        docLink.innerHTML = docLinkHtml;\n",
              "        element.appendChild(docLink);\n",
              "      }\n",
              "    </script>\n",
              "  </div>\n",
              "\n",
              "\n",
              "<div id=\"df-0114457a-8d00-4231-80c6-7f51bdfacf75\">\n",
              "  <button class=\"colab-df-quickchart\" onclick=\"quickchart('df-0114457a-8d00-4231-80c6-7f51bdfacf75')\"\n",
              "            title=\"Suggest charts.\"\n",
              "            style=\"display:none;\">\n",
              "\n",
              "<svg xmlns=\"http://www.w3.org/2000/svg\" height=\"24px\"viewBox=\"0 0 24 24\"\n",
              "     width=\"24px\">\n",
              "    <g>\n",
              "        <path d=\"M19 3H5c-1.1 0-2 .9-2 2v14c0 1.1.9 2 2 2h14c1.1 0 2-.9 2-2V5c0-1.1-.9-2-2-2zM9 17H7v-7h2v7zm4 0h-2V7h2v10zm4 0h-2v-4h2v4z\"/>\n",
              "    </g>\n",
              "</svg>\n",
              "  </button>\n",
              "\n",
              "<style>\n",
              "  .colab-df-quickchart {\n",
              "      --bg-color: #E8F0FE;\n",
              "      --fill-color: #1967D2;\n",
              "      --hover-bg-color: #E2EBFA;\n",
              "      --hover-fill-color: #174EA6;\n",
              "      --disabled-fill-color: #AAA;\n",
              "      --disabled-bg-color: #DDD;\n",
              "  }\n",
              "\n",
              "  [theme=dark] .colab-df-quickchart {\n",
              "      --bg-color: #3B4455;\n",
              "      --fill-color: #D2E3FC;\n",
              "      --hover-bg-color: #434B5C;\n",
              "      --hover-fill-color: #FFFFFF;\n",
              "      --disabled-bg-color: #3B4455;\n",
              "      --disabled-fill-color: #666;\n",
              "  }\n",
              "\n",
              "  .colab-df-quickchart {\n",
              "    background-color: var(--bg-color);\n",
              "    border: none;\n",
              "    border-radius: 50%;\n",
              "    cursor: pointer;\n",
              "    display: none;\n",
              "    fill: var(--fill-color);\n",
              "    height: 32px;\n",
              "    padding: 0;\n",
              "    width: 32px;\n",
              "  }\n",
              "\n",
              "  .colab-df-quickchart:hover {\n",
              "    background-color: var(--hover-bg-color);\n",
              "    box-shadow: 0 1px 2px rgba(60, 64, 67, 0.3), 0 1px 3px 1px rgba(60, 64, 67, 0.15);\n",
              "    fill: var(--button-hover-fill-color);\n",
              "  }\n",
              "\n",
              "  .colab-df-quickchart-complete:disabled,\n",
              "  .colab-df-quickchart-complete:disabled:hover {\n",
              "    background-color: var(--disabled-bg-color);\n",
              "    fill: var(--disabled-fill-color);\n",
              "    box-shadow: none;\n",
              "  }\n",
              "\n",
              "  .colab-df-spinner {\n",
              "    border: 2px solid var(--fill-color);\n",
              "    border-color: transparent;\n",
              "    border-bottom-color: var(--fill-color);\n",
              "    animation:\n",
              "      spin 1s steps(1) infinite;\n",
              "  }\n",
              "\n",
              "  @keyframes spin {\n",
              "    0% {\n",
              "      border-color: transparent;\n",
              "      border-bottom-color: var(--fill-color);\n",
              "      border-left-color: var(--fill-color);\n",
              "    }\n",
              "    20% {\n",
              "      border-color: transparent;\n",
              "      border-left-color: var(--fill-color);\n",
              "      border-top-color: var(--fill-color);\n",
              "    }\n",
              "    30% {\n",
              "      border-color: transparent;\n",
              "      border-left-color: var(--fill-color);\n",
              "      border-top-color: var(--fill-color);\n",
              "      border-right-color: var(--fill-color);\n",
              "    }\n",
              "    40% {\n",
              "      border-color: transparent;\n",
              "      border-right-color: var(--fill-color);\n",
              "      border-top-color: var(--fill-color);\n",
              "    }\n",
              "    60% {\n",
              "      border-color: transparent;\n",
              "      border-right-color: var(--fill-color);\n",
              "    }\n",
              "    80% {\n",
              "      border-color: transparent;\n",
              "      border-right-color: var(--fill-color);\n",
              "      border-bottom-color: var(--fill-color);\n",
              "    }\n",
              "    90% {\n",
              "      border-color: transparent;\n",
              "      border-bottom-color: var(--fill-color);\n",
              "    }\n",
              "  }\n",
              "</style>\n",
              "\n",
              "  <script>\n",
              "    async function quickchart(key) {\n",
              "      const quickchartButtonEl =\n",
              "        document.querySelector('#' + key + ' button');\n",
              "      quickchartButtonEl.disabled = true;  // To prevent multiple clicks.\n",
              "      quickchartButtonEl.classList.add('colab-df-spinner');\n",
              "      try {\n",
              "        const charts = await google.colab.kernel.invokeFunction(\n",
              "            'suggestCharts', [key], {});\n",
              "      } catch (error) {\n",
              "        console.error('Error during call to suggestCharts:', error);\n",
              "      }\n",
              "      quickchartButtonEl.classList.remove('colab-df-spinner');\n",
              "      quickchartButtonEl.classList.add('colab-df-quickchart-complete');\n",
              "    }\n",
              "    (() => {\n",
              "      let quickchartButtonEl =\n",
              "        document.querySelector('#df-0114457a-8d00-4231-80c6-7f51bdfacf75 button');\n",
              "      quickchartButtonEl.style.display =\n",
              "        google.colab.kernel.accessAllowed ? 'block' : 'none';\n",
              "    })();\n",
              "  </script>\n",
              "</div>\n",
              "    </div>\n",
              "  </div>\n"
            ]
          },
          "metadata": {},
          "execution_count": 5
        }
      ]
    },
    {
      "cell_type": "markdown",
      "source": [
        "## 1. Data Clean / Understanding"
      ],
      "metadata": {
        "id": "jqZ6CqElkvnJ"
      }
    },
    {
      "cell_type": "code",
      "source": [],
      "metadata": {
        "id": "LnR8YW4QkvnJ"
      },
      "execution_count": null,
      "outputs": []
    },
    {
      "cell_type": "markdown",
      "source": [
        "### 1.0 Clean Missing Values"
      ],
      "metadata": {
        "id": "2LuWIq1-kvnJ"
      }
    },
    {
      "cell_type": "code",
      "source": [
        "# Add your implementation"
      ],
      "metadata": {
        "execution": {
          "iopub.status.busy": "2023-11-04T22:09:28.578120Z",
          "iopub.execute_input": "2023-11-04T22:09:28.578926Z",
          "iopub.status.idle": "2023-11-04T22:09:28.583324Z",
          "shell.execute_reply.started": "2023-11-04T22:09:28.578892Z",
          "shell.execute_reply": "2023-11-04T22:09:28.582210Z"
        },
        "trusted": true,
        "id": "jDRRA8YtkvnJ"
      },
      "execution_count": null,
      "outputs": []
    },
    {
      "cell_type": "markdown",
      "source": [
        "### 1.1 Distribution\n",
        "Goal: Understand the distribution of columns in the data set.\n",
        "1. Are all of the  columns normally distributed?\n",
        "\n",
        "Impacts:\n",
        "1. If the data is not normally distributed, the training process may be biased towards the majority class.\n",
        "\n",
        "Precondition:\n",
        "1. Data is loaded.\n",
        "2. Missing values are handled.\n",
        "   a. reason: missing values are not counted in the distribution.\n",
        "\n",
        "Action: Find the distribution of every column in the data set, totally 3 columns.\n",
        "1. subject\n",
        "2. classname\n",
        "3. img"
      ],
      "metadata": {
        "id": "brlhY_DukvnJ"
      }
    },
    {
      "cell_type": "markdown",
      "source": [
        "#### 1.1.1 subject distribution"
      ],
      "metadata": {
        "id": "eOiM-0hWkvnJ"
      }
    },
    {
      "cell_type": "code",
      "source": [
        "# Count the number of occurrences of each class\n",
        "class_counts = df['subject'].value_counts()\n",
        "\n",
        "# Plot the distribution\n",
        "plt.figure(figsize=(12, 8))\n",
        "class_counts.plot(kind='bar', color='skyblue')\n",
        "plt.title('Subject Distribution')\n",
        "plt.xlabel('Subject')\n",
        "plt.ylabel('Number of Samples')\n",
        "plt.xticks(rotation=45)\n",
        "plt.grid(axis='y')\n",
        "plt.show()"
      ],
      "metadata": {
        "_uuid": "8f2839f25d086af736a60e9eeb907d3b93b6e0e5",
        "_cell_guid": "b1076dfc-b9ad-4769-8c92-a6c4dae69d19",
        "execution": {
          "iopub.status.busy": "2023-11-04T22:09:29.779080Z",
          "iopub.execute_input": "2023-11-04T22:09:29.779457Z",
          "iopub.status.idle": "2023-11-04T22:09:30.319976Z",
          "shell.execute_reply.started": "2023-11-04T22:09:29.779430Z",
          "shell.execute_reply": "2023-11-04T22:09:30.318819Z"
        },
        "trusted": true,
        "id": "lmUMPdpIkvnJ",
        "colab": {
          "base_uri": "https://localhost:8080/",
          "height": 739
        },
        "outputId": "d3cd806d-b595-47d0-c56a-6451cb774177"
      },
      "execution_count": 6,
      "outputs": [
        {
          "output_type": "display_data",
          "data": {
            "text/plain": [
              "<Figure size 1200x800 with 1 Axes>"
            ],
            "image/png": "[encoded data removed]"
          },
          "metadata": {}
        }
      ]
    },
    {
      "cell_type": "markdown",
      "source": [
        "#### 1.1.2 classname distribution"
      ],
      "metadata": {
        "id": "a5WtadgIkvnJ"
      }
    },
    {
      "cell_type": "code",
      "source": [
        "# Count the number of occurrences of each class\n",
        "class_counts = df['classname'].value_counts()\n",
        "\n",
        "# Plot the distribution\n",
        "plt.figure(figsize=(12, 8))\n",
        "class_counts.plot(kind='bar', color='skyblue')\n",
        "plt.title('Classname Distribution')\n",
        "plt.xlabel('Classname')\n",
        "plt.ylabel('Number of Samples')\n",
        "plt.xticks(rotation=45)\n",
        "plt.grid(axis='y')\n",
        "plt.show()"
      ],
      "metadata": {
        "execution": {
          "iopub.status.busy": "2023-11-04T22:09:30.675284Z",
          "iopub.execute_input": "2023-11-04T22:09:30.675932Z",
          "iopub.status.idle": "2023-11-04T22:09:31.018529Z",
          "shell.execute_reply.started": "2023-11-04T22:09:30.675898Z",
          "shell.execute_reply": "2023-11-04T22:09:31.017377Z"
        },
        "trusted": true,
        "id": "n2pjHpNjkvnK",
        "colab": {
          "base_uri": "https://localhost:8080/",
          "height": 726
        },
        "outputId": "0632b292-9bd3-4677-f414-793563efcbe6"
      },
      "execution_count": 7,
      "outputs": [
        {
          "output_type": "display_data",
          "data": {
            "text/plain": [
              "<Figure size 1200x800 with 1 Axes>"
            ],
            "image/png": "[encoded data removed]"
          },
          "metadata": {}
        }
      ]
    },
    {
      "cell_type": "markdown",
      "source": [
        "#### 1.1.3 img distribution\n",
        "To visualize it may take quite a long time since img is likely to be unique.\n",
        "So, instead of render every single bar, we can instead see if every of them are unique."
      ],
      "metadata": {
        "id": "CgR1w6dmkvnK"
      }
    },
    {
      "cell_type": "code",
      "source": [
        "# Check the total number of 'img' entries\n",
        "total_entries = len(df['img'])\n",
        "\n",
        "# Check the number of unique 'img' entries\n",
        "unique_entries = df['img'].nunique()\n",
        "\n",
        "# Print the results\n",
        "print(f\"Total number of image entries: {total_entries}\")\n",
        "print(f\"Number of unique image entries: {unique_entries}\")\n",
        "\n",
        "# Check if every image entry is unique\n",
        "if total_entries == unique_entries:\n",
        "    print(\"Every image entry is unique.\")\n",
        "else:\n",
        "    print(f\"There are {total_entries - unique_entries} duplicate image entries.\")"
      ],
      "metadata": {
        "execution": {
          "iopub.status.busy": "2023-11-04T22:09:32.315604Z",
          "iopub.execute_input": "2023-11-04T22:09:32.316723Z",
          "iopub.status.idle": "2023-11-04T22:09:32.336857Z",
          "shell.execute_reply.started": "2023-11-04T22:09:32.316690Z",
          "shell.execute_reply": "2023-11-04T22:09:32.336102Z"
        },
        "trusted": true,
        "id": "ju8ItVwLkvnK",
        "colab": {
          "base_uri": "https://localhost:8080/"
        },
        "outputId": "a2729981-4021-4531-94eb-75176e962d47"
      },
      "execution_count": 8,
      "outputs": [
        {
          "output_type": "stream",
          "name": "stdout",
          "text": [
            "Total number of image entries: 22424\n",
            "Number of unique image entries: 22424\n",
            "Every image entry is unique.\n"
          ]
        }
      ]
    },
    {
      "cell_type": "markdown",
      "source": [
        "### Note: Before the below items (1.2, 1.3, 1.4), it will better to check what kind of inputs each model want. May be some model don't need to resize the image, simplify the color, etc."
      ],
      "metadata": {
        "id": "aPzO6Lr4kvnK"
      }
    },
    {
      "cell_type": "markdown",
      "source": [
        "### 1.2 Image Quality Check\n",
        "**Here might be tricky**\n",
        "\n",
        "Image Quality Check:\n",
        "Check if all images are of\n",
        "1. consistent quality,\n",
        "2. resolution,\n",
        "3. orientation.\n",
        "4. Identify any corrupted or unreadable images.\n",
        "\n",
        "**Note**: Based on the suggestion from James, since those image are already labeled, they are very likely to be okay, such the as the resolution, orientation, and the size.\n",
        "\n",
        "Action:\n",
        "Just in case,\n",
        "\n",
        "1. write the code to check integrity for easy items, such as\n",
        "  a. if every single img has the same size\n",
        "  b. resolution same for each img? (how many pixels are displayed per inch of an image)\n",
        "2. Manually random choose a portion of images (may be quickly galance 1000 images?), to build confidence:\n",
        "  a. same orientation?\n",
        "  b. any corrupted data?"
      ],
      "metadata": {
        "id": "JywiioHmkvnK"
      }
    },
    {
      "cell_type": "markdown",
      "source": [
        "### 1.2.1 Coding Part for Simple Items\n",
        "Assignee: Jingchao Zhong"
      ],
      "metadata": {
        "id": "M_rA7bfMkvnL"
      }
    },
    {
      "cell_type": "markdown",
      "source": [
        "Note for the implementation:\n",
        "By observation, the `img` column of `driver_imgs_list.csv` only contain the image filenames for the training data set, which means the image files are located in the `imgs/train` folder. Thus, to check the quality of all available imgs, I scan directly for the images under `imgs` folder."
      ],
      "metadata": {
        "id": "Xf8Vf6T0kvnL"
      }
    },
    {
      "cell_type": "code",
      "source": [
        "class ImageScanner:\n",
        "    def __init__(self, path):\n",
        "        self.path = path\n",
        "        self.image_files = self._get_all_jpg_files()\n",
        "        self.statistics = {\n",
        "            \"total_images\": len(self.image_files),\n",
        "            \"same_size\": 0,\n",
        "            \"different_size\": 0,\n",
        "            \"same_resolution\": 0,\n",
        "            \"different_resolution\": 0,\n",
        "            \"reference_size\": None,\n",
        "            \"reference_resolution\": None,\n",
        "            \"size_issues\": defaultdict(list),\n",
        "            \"resolution_issues\": defaultdict(list)\n",
        "        }\n",
        "\n",
        "    def _get_all_jpg_files(self):\n",
        "        \"\"\"\n",
        "        Retrieve all jpg files in the specified directory, including subdirectories.\n",
        "        \"\"\"\n",
        "        jpg_files = []\n",
        "        for root, _, files in os.walk(self.path):\n",
        "            for file in files:\n",
        "                if file.lower().endswith(\".jpg\"):\n",
        "                    jpg_files.append(os.path.join(root, file))\n",
        "        return jpg_files\n",
        "\n",
        "    @staticmethod\n",
        "    def _get_image_size_and_resolution(image_path):\n",
        "        \"\"\"\n",
        "        Get the size and resolution of an image.\n",
        "        \"\"\"\n",
        "        with Image.open(image_path) as img:\n",
        "            size = img.size\n",
        "            resolution = img.info.get('dpi', (None, None))\n",
        "        return size, resolution\n",
        "\n",
        "    def scan_images(self):\n",
        "        if not self.image_files:\n",
        "            print(\"No JPG images found in the provided path.\")\n",
        "            return\n",
        "\n",
        "        reference_size, reference_resolution = self._get_image_size_and_resolution(self.image_files[0])\n",
        "        self.statistics[\"reference_size\"] = reference_size\n",
        "        self.statistics[\"reference_resolution\"] = reference_resolution\n",
        "\n",
        "        for image_path in tqdm(self.image_files, desc=\"Scanning images\", ncols=100):\n",
        "            current_size, current_resolution = self._get_image_size_and_resolution(image_path)\n",
        "\n",
        "            if current_size == reference_size:\n",
        "                self.statistics[\"same_size\"] += 1\n",
        "            else:\n",
        "                self.statistics[\"different_size\"] += 1\n",
        "                self.statistics[\"size_issues\"][current_size].append(image_path)\n",
        "\n",
        "            if current_resolution == reference_resolution:\n",
        "                self.statistics[\"same_resolution\"] += 1\n",
        "            else:\n",
        "                self.statistics[\"different_resolution\"] += 1\n",
        "                self.statistics[\"resolution_issues\"][current_resolution].append(image_path)\n",
        "\n",
        "    def display_statistics(self):\n",
        "        \"\"\"\n",
        "        Display the statistics after scanning the images.\n",
        "        \"\"\"\n",
        "        print(f\"Total images scanned: {self.statistics['total_images']}\")\n",
        "\n",
        "        # Size statistics\n",
        "        print(f\"\\nSize Statistics:\")\n",
        "        print(f\"Images with same size as reference: {self.statistics['same_size']}\")\n",
        "        print(f\"Images with different size: {self.statistics['different_size']}\")\n",
        "        print(f\"Reference image size: {self.statistics['reference_size']}\")\n",
        "\n",
        "        if self.statistics[\"size_issues\"]:\n",
        "            print(\"\\nDetails of images with different sizes:\")\n",
        "            for size, paths in self.statistics[\"size_issues\"].items():\n",
        "                print(f\"Size: {size}\")\n",
        "                for p in paths:\n",
        "                    print(f\"   - {p}\")\n",
        "\n",
        "        # Resolution statistics\n",
        "        print(f\"\\nResolution Statistics:\")\n",
        "        print(f\"Images with same resolution as reference: {self.statistics['same_resolution']}\")\n",
        "        print(f\"Images with different resolution: {self.statistics['different_resolution']}\")\n",
        "        print(f\"Reference image resolution: {self.statistics['reference_resolution']}\")\n",
        "\n",
        "        if self.statistics[\"resolution_issues\"]:\n",
        "            print(\"\\nDetails of images with different resolutions:\")\n",
        "            for resolution, paths in self.statistics[\"resolution_issues\"].items():\n",
        "                print(f\"Resolution: {resolution}\")\n",
        "                for p in paths:\n",
        "                    print(f\"   - {p}\")\n",
        "\n",
        "\n",
        "print(\"start processing...\")\n",
        "scanner = ImageScanner(imgs_path)\n",
        "scanner.scan_images()\n",
        "scanner.display_statistics()"
      ],
      "metadata": {
        "execution": {
          "iopub.status.busy": "2023-10-20T17:53:53.345857Z",
          "iopub.execute_input": "2023-10-20T17:53:53.346243Z",
          "iopub.status.idle": "2023-10-20T18:06:01.879849Z",
          "shell.execute_reply.started": "2023-10-20T17:53:53.346214Z",
          "shell.execute_reply": "2023-10-20T18:06:01.878415Z"
        },
        "trusted": true,
        "colab": {
          "base_uri": "https://localhost:8080/",
          "height": 268
        },
        "id": "vKnlhw-qkvnL",
        "outputId": "35deab65-7efe-40b0-9060-acec7ae203de"
      },
      "execution_count": null,
      "outputs": [
        {
          "output_type": "stream",
          "name": "stdout",
          "text": [
            "start processing...\n"
          ]
        },
        {
          "output_type": "error",
          "ename": "NameError",
          "evalue": "ignored",
          "traceback": [
            "\u001b[0;31m---------------------------------------------------------------------------\u001b[0m",
            "\u001b[0;31mNameError\u001b[0m                                 Traceback (most recent call last)",
            "\u001b[0;32m<ipython-input-1-cce0be1cfeeb>\u001b[0m in \u001b[0;36m<cell line: 96>\u001b[0;34m()\u001b[0m\n\u001b[1;32m     94\u001b[0m \u001b[0;34m\u001b[0m\u001b[0m\n\u001b[1;32m     95\u001b[0m \u001b[0mprint\u001b[0m\u001b[0;34m(\u001b[0m\u001b[0;34m\"start processing...\"\u001b[0m\u001b[0;34m)\u001b[0m\u001b[0;34m\u001b[0m\u001b[0;34m\u001b[0m\u001b[0m\n\u001b[0;32m---> 96\u001b[0;31m \u001b[0mimgs_path\u001b[0m \u001b[0;34m=\u001b[0m \u001b[0mos\u001b[0m\u001b[0;34m.\u001b[0m\u001b[0mpath\u001b[0m\u001b[0;34m.\u001b[0m\u001b[0mjoin\u001b[0m\u001b[0;34m(\u001b[0m\u001b[0mshared_folder_path\u001b[0m\u001b[0;34m,\u001b[0m \u001b[0;34m'imgs'\u001b[0m\u001b[0;34m)\u001b[0m\u001b[0;34m\u001b[0m\u001b[0;34m\u001b[0m\u001b[0m\n\u001b[0m\u001b[1;32m     97\u001b[0m \u001b[0mscanner\u001b[0m \u001b[0;34m=\u001b[0m \u001b[0mImageScanner\u001b[0m\u001b[0;34m(\u001b[0m\u001b[0mimgs_path\u001b[0m\u001b[0;34m)\u001b[0m\u001b[0;34m\u001b[0m\u001b[0;34m\u001b[0m\u001b[0m\n\u001b[1;32m     98\u001b[0m \u001b[0mscanner\u001b[0m\u001b[0;34m.\u001b[0m\u001b[0mscan_images\u001b[0m\u001b[0;34m(\u001b[0m\u001b[0;34m)\u001b[0m\u001b[0;34m\u001b[0m\u001b[0;34m\u001b[0m\u001b[0m\n",
            "\u001b[0;31mNameError\u001b[0m: name 'os' is not defined"
          ]
        }
      ]
    },
    {
      "cell_type": "markdown",
      "source": [
        "### 1.2.2 Manual Part for Complicated Items\n",
        "Assignee: Jingchao Zhong"
      ],
      "metadata": {
        "id": "dmazpXxCkvnL"
      }
    },
    {
      "cell_type": "markdown",
      "source": [
        "Put your observations here:\n",
        "\n",
        "By manual observation, I so far observed that there are examples of images that have different enviroment light:\n",
        "\n",
        "Blue Enviroment Light:\n",
        "* `img_51066.jpg` (`C0` of `train` folder)\n",
        "\n",
        "\n",
        "Note:\n",
        "\n",
        "I stop here for now, since here takes a lot time. I might revisit this item later, if our model don't give good result."
      ],
      "metadata": {
        "id": "9yDSwrRIkvnL"
      }
    },
    {
      "cell_type": "markdown",
      "source": [
        "### 1.3 Image Resizing?\n",
        "1. Does every image has the same size? Do we need to uniform the size?\n",
        "2. Is there a model require a specific size of image? (Don't know yet, we will find out later during model selection)\n",
        "\n",
        "Action: For the specific target image size, we don't yet. Revist this item when needed.\n",
        "\n",
        "Assigne: No Needed"
      ],
      "metadata": {
        "id": "Yb2pPY0-kvnL"
      }
    },
    {
      "cell_type": "code",
      "source": [],
      "metadata": {
        "id": "mmxWM-qykvnL"
      },
      "execution_count": null,
      "outputs": []
    },
    {
      "cell_type": "markdown",
      "source": [
        "### 1.4 Data Augmentation?\n",
        "GPT4:  Given the nature of the challenge (distracted driving), augmenting the dataset with rotations, shifts, flips, etc., can be beneficial to make the model robust. Are there some preprocess needed to make the training more efficient?\n",
        "\n",
        "Note: Based on suggestions from James, there are already many advanced CV libraries handled those.\n",
        "\n",
        "Action: Skip here for now. If any of the model we gonna use requires a specific input format, then revise here. Though, it's not likely be the case.\n",
        "\n",
        "Assignee: No needed"
      ],
      "metadata": {
        "id": "ScPs2PYSkvnL"
      }
    },
    {
      "cell_type": "code",
      "source": [],
      "metadata": {
        "id": "v21tTeNakvnL"
      },
      "execution_count": null,
      "outputs": []
    },
    {
      "cell_type": "markdown",
      "source": [
        "## 1.5 Splitting the Data\n",
        "Note: Images are already spliited into train and test folder, but we are only given one input csv. So here is where we need to split the csv into two parts. We need two data frames.\n",
        "\n",
        "Assignee: Jingchao Zhong"
      ],
      "metadata": {
        "id": "g9KvwxP1kvnL"
      }
    },
    {
      "cell_type": "markdown",
      "source": [
        "Jingchao's Observation:\n",
        "\n",
        "Firstly, a clarification:\n",
        "\n",
        "Although we are provided with only one input CSV, this CSV contains only the image filenames from the `train` folder. It does not include any image filenames from the `test` folder. The images from the test folder are used to validate our model and to generate the output CSV, similar to sample_submission.csv. This is what Kaggle uses to evaluate the accuracy of our model.\n",
        "\n",
        "Therefore, when we discuss splitting the data here, we aren't referring to correlating filenames across different folders. Instead, we are doing what we practiced earlier in the course: splitting the image filenames in the `train` folder into training and testing datasets. This allows us to assess our model's accuracy locally.\n",
        "\n",
        "<img src=\"attachment:36d8c23c-58b8-4c31-8185-cd212e4d3be4.png\" width=\"300\" height=\"200\">"
      ],
      "metadata": {
        "id": "BDeClt7nkvnM"
      }
    },
    {
      "cell_type": "code",
      "source": [
        "# Implementation\n",
        "train_df, test_df = train_test_split(df, test_size=0.2, random_state=42)\n",
        "print(f\"Training dataset shape: {train_df.shape}\")\n",
        "print(f\"Testing dataset shape: {test_df.shape}\")\n",
        "\n",
        "print(\"\\nCheck if the data is still balanced after splitting\\n\")\n",
        "print(train_df['classname'].value_counts(normalize=True))\n",
        "print(test_df['classname'].value_counts(normalize=True))"
      ],
      "metadata": {
        "execution": {
          "iopub.status.busy": "2023-10-20T18:25:42.547310Z",
          "iopub.execute_input": "2023-10-20T18:25:42.548545Z",
          "iopub.status.idle": "2023-10-20T18:25:42.563419Z",
          "shell.execute_reply.started": "2023-10-20T18:25:42.548498Z",
          "shell.execute_reply": "2023-10-20T18:25:42.562085Z"
        },
        "trusted": true,
        "id": "bVGIJF-HkvnM"
      },
      "execution_count": null,
      "outputs": []
    },
    {
      "cell_type": "markdown",
      "source": [
        "## 2. Model Selection / Experiments\n",
        "We are quite new to this area, so let's do some experiments. James have provided some links he found seems to be helpful.\n",
        "\n",
        "Resources:\n",
        "> 1. Tenserflow has a lot of interesting examples here.\n",
        "https://www.tensorflow.org/lite/examples\n",
        "One that might be useful for you guys is this gesture recognition one\n",
        "https://github.com/tensorflow/examples/tree/master/lite/examples/gesture_classification/android\n",
        "\n",
        "> 2. Also check out the section here on using Google’s TeachableMachines\n",
        "https://github.com/jfd235/Interactive-Lab-Hub/tree/Fall2022/Lab%205\n",
        "\n",
        "> 3. These articles seem to point to repositories that already have code in Colab/Jupyter notebook form\n",
        "https://towardsdatascience.com/tutorial-using-deep-learning-and-cnns-to-make-a-hand-gesture-recognition-model-371770b63a51\n",
        "https://developers.google.com/mediapipe/solutions/customization/gesture_recognizer\n",
        "\n",
        "Final Note from James:\n",
        "> There are a ton of resources out there like this, so I’d pick one that looks easy (the TeachableMachines looks really easy to prototype with IMO), try it with a few of your images for training (no point in using all of them since we’re just testing things for now), and see if they can predict a few of your other images for testing"
      ],
      "metadata": {
        "id": "WWv5cguGkvnM"
      }
    },
    {
      "cell_type": "markdown",
      "source": [
        "### 2.1 Experiements Report for those sources\n",
        "Don't have to be only one assignee.\n",
        "Assignee:"
      ],
      "metadata": {
        "id": "WjHSqpfHkvnN"
      }
    },
    {
      "cell_type": "code",
      "source": [],
      "metadata": {
        "execution": {
          "iopub.status.busy": "2023-11-04T01:12:38.007868Z",
          "iopub.execute_input": "2023-11-04T01:12:38.008314Z",
          "iopub.status.idle": "2023-11-04T01:13:03.901054Z",
          "shell.execute_reply.started": "2023-11-04T01:12:38.008281Z",
          "shell.execute_reply": "2023-11-04T01:13:03.899425Z"
        },
        "trusted": true,
        "id": "sWHWW0J5kvnN"
      },
      "execution_count": null,
      "outputs": []
    },
    {
      "cell_type": "markdown",
      "source": [
        "Jingchao's Trail for CNN|"
      ],
      "metadata": {
        "id": "E7QXI4b5kvnN"
      }
    },
    {
      "cell_type": "code",
      "source": [
        "\n",
        "# Split the data into training and validation sets\n",
        "# It's important to have a validation set to evaluate the model's performance on unseen data\n",
        "# We use stratify to ensure that the distribution of classes remains the same in both the training and validation sets\n",
        "train_df, val_df = train_test_split(df, test_size=0.2, stratify=df['classname'], random_state=42)\n"
      ],
      "metadata": {
        "execution": {
          "iopub.status.busy": "2023-11-04T22:19:12.158383Z",
          "iopub.execute_input": "2023-11-04T22:19:12.158762Z",
          "iopub.status.idle": "2023-11-04T22:19:12.224288Z",
          "shell.execute_reply.started": "2023-11-04T22:19:12.158728Z",
          "shell.execute_reply": "2023-11-04T22:19:12.223150Z"
        },
        "trusted": true,
        "id": "kQ4c6aMtkvnN"
      },
      "execution_count": 9,
      "outputs": []
    },
    {
      "cell_type": "code",
      "source": [
        "# Function to process the image paths\n",
        "# This function reads the image from the file, decodes it into a matrix, resizes it, and normalizes the pixel values\n",
        "def process_path(file_path, label):\n",
        "    # Load the image\n",
        "    img = tf.io.read_file(file_path)\n",
        "    img = tf.image.decode_jpeg(img, channels=3)\n",
        "    img = tf.image.resize(img, [224, 224])\n",
        "    img = img / 255.0  # normalize pixel values\n",
        "    return img, label\n",
        "\n",
        "# Preparing the file paths and labels for the training and validation sets\n",
        "base_dir = os.path.join(imgs_path, 'train')\n",
        "train_paths = [os.path.join(base_dir, row.classname, row.img) for _, row in train_df.iterrows()]\n",
        "val_paths = [os.path.join(base_dir, row.classname, row.img) for _, row in val_df.iterrows()]\n",
        "\n",
        "# Converting class labels to one-hot encoding\n",
        "# One-hot encoding is used to convert categorical data variables so they can be provided to machine learning algorithms to do a better job in prediction.\n",
        "train_labels = tf.keras.utils.to_categorical(train_df['classname'].str.extract('(\\d)').astype(int), num_classes=10)\n",
        "val_labels = tf.keras.utils.to_categorical(val_df['classname'].str.extract('(\\d)').astype(int), num_classes=10)\n",
        "\n",
        "# Creating TensorFlow datasets for better performance and ease of use\n",
        "train_ds = tf.data.Dataset.from_tensor_slices((train_paths, train_labels))\n",
        "val_ds = tf.data.Dataset.from_tensor_slices((val_paths, val_labels))\n",
        "\n",
        "# Mapping the process_path function to each item in the dataset\n",
        "# This applies the image reading and preprocessing to all images in the dataset\n",
        "train_ds = train_ds.map(process_path, num_parallel_calls=tf.data.experimental.AUTOTUNE)\n",
        "val_ds = val_ds.map(process_path, num_parallel_calls=tf.data.experimental.AUTOTUNE)\n"
      ],
      "metadata": {
        "execution": {
          "iopub.status.busy": "2023-11-04T22:19:23.514254Z",
          "iopub.execute_input": "2023-11-04T22:19:23.514683Z",
          "iopub.status.idle": "2023-11-04T22:19:35.003768Z",
          "shell.execute_reply.started": "2023-11-04T22:19:23.514649Z",
          "shell.execute_reply": "2023-11-04T22:19:35.002546Z"
        },
        "trusted": true,
        "id": "OAi-aK7SkvnN"
      },
      "execution_count": 10,
      "outputs": []
    },
    {
      "cell_type": "code",
      "source": [
        "# Function to check whether all file paths are valid\n",
        "def check_file_paths(file_paths):\n",
        "    missing_files = [fp for fp in file_paths if not os.path.exists(fp)]\n",
        "    if missing_files:\n",
        "        print(f\"Missing {len(missing_files)} files:\")\n",
        "        for fp in missing_files:\n",
        "            print(fp)\n",
        "    else:\n",
        "        print(\"All files are present.\")\n",
        "\n",
        "# Check the file paths for both training and validation sets\n",
        "check_file_paths(train_paths)\n",
        "check_file_paths(val_paths)"
      ],
      "metadata": {
        "colab": {
          "base_uri": "https://localhost:8080/"
        },
        "id": "81iv1-wG20Kb",
        "outputId": "16097278-9776-4ebd-da31-15f4689f66c9"
      },
      "execution_count": 11,
      "outputs": [
        {
          "output_type": "stream",
          "name": "stdout",
          "text": [
            "All files are present.\n",
            "All files are present.\n"
          ]
        }
      ]
    },
    {
      "cell_type": "code",
      "source": [
        "# Building the model\n",
        "# We use a simple Convolutional Neural Network (CNN) architecture which is effective for image classification tasks\n",
        "model = tf.keras.models.Sequential([\n",
        "    tf.keras.layers.Conv2D(32, (3,3), activation='relu', input_shape=(224, 224, 3)),\n",
        "    tf.keras.layers.MaxPooling2D(2, 2),\n",
        "    tf.keras.layers.Conv2D(64, (3,3), activation='relu'),\n",
        "    tf.keras.layers.MaxPooling2D(2,2),\n",
        "    tf.keras.layers.Flatten(),\n",
        "    tf.keras.layers.Dense(512, activation='relu'),\n",
        "    tf.keras.layers.Dense(10, activation='softmax')\n",
        "])\n",
        "\n",
        "# Compiling the model\n",
        "# We use categorical_crossentropy as the loss function since it's a multi-class classification problem\n",
        "# Adam is a good default optimizer to use, and we're interested in tracking accuracy as our evaluation metric\n",
        "model.compile(loss='categorical_crossentropy', optimizer='adam', metrics=['accuracy'])\n",
        "\n",
        "# Training the model\n",
        "# We train for 10 epochs as a starting point, which represents 10 passes through the training data\n",
        "# The model's performance is validated at the end of each epoch on the validation set\n",
        "history = model.fit(\n",
        "    train_ds.batch(32),\n",
        "    epochs=10,\n",
        "    validation_data=val_ds.batch(32)\n",
        ")\n"
      ],
      "metadata": {
        "execution": {
          "iopub.status.busy": "2023-11-04T22:20:44.662179Z",
          "iopub.execute_input": "2023-11-04T22:20:44.662600Z"
        },
        "trusted": true,
        "colab": {
          "base_uri": "https://localhost:8080/"
        },
        "id": "_vBSVLIUkvnN",
        "outputId": "da9fa4a1-216a-4e0a-9e1d-716cdca361fe"
      },
      "execution_count": null,
      "outputs": [
        {
          "output_type": "stream",
          "name": "stdout",
          "text": [
            "Epoch 1/10\n",
            " 92/561 [===>..........................] - ETA: 41:58 - loss: 2.7243 - accuracy: 0.3115"
          ]
        }
      ]
    },
    {
      "cell_type": "code",
      "source": [
        " model.save('driver_behavior_model.h5')\n"
      ],
      "metadata": {
        "id": "z5R_L2mGkvnN"
      },
      "execution_count": null,
      "outputs": []
    },
    {
      "cell_type": "code",
      "source": [],
      "metadata": {
        "id": "lFs7_ABdkvnU"
      },
      "execution_count": null,
      "outputs": []
    }
  ]
}